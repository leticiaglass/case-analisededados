{
 "cells": [
  {
   "cell_type": "markdown",
   "metadata": {},
   "source": [
    "\n",
    "## Análise Exploratória - Métricas\n"
   ]
  },
  {
   "cell_type": "code",
   "execution_count": 3,
   "metadata": {},
   "outputs": [],
   "source": [
    "# Conectando na base de Dados: \n",
    "import mysql.connector\n",
    "\n",
    "cnx = mysql.connector.connect(user='leticia.glass', password='dQ4P9V$RoN9ebgr',\n",
    "                              host='data-case-db.ctxdyrkhld9x.us-east-1.rds.amazonaws.com',\n",
    "                              database='warren')"
   ]
  },
  {
   "cell_type": "code",
   "execution_count": 4,
   "metadata": {},
   "outputs": [],
   "source": [
    "# Importando as bibliotecas necessárias para as análises e construção de gráficos\n",
    "import pandas as pd\n",
    "import matplotlib.pyplot as plt\n",
    "import numpy as np\n",
    "import seaborn as sns "
   ]
  },
  {
   "cell_type": "code",
   "execution_count": 5,
   "metadata": {},
   "outputs": [
    {
     "data": {
      "text/html": [
       "<div>\n",
       "<style scoped>\n",
       "    .dataframe tbody tr th:only-of-type {\n",
       "        vertical-align: middle;\n",
       "    }\n",
       "\n",
       "    .dataframe tbody tr th {\n",
       "        vertical-align: top;\n",
       "    }\n",
       "\n",
       "    .dataframe thead th {\n",
       "        text-align: right;\n",
       "    }\n",
       "</style>\n",
       "<table border=\"1\" class=\"dataframe\">\n",
       "  <thead>\n",
       "    <tr style=\"text-align: right;\">\n",
       "      <th></th>\n",
       "      <th>CustomerApiid</th>\n",
       "      <th>CustomerId</th>\n",
       "      <th>AUM</th>\n",
       "      <th>RegisterDate</th>\n",
       "      <th>AmountFirstDeposit</th>\n",
       "      <th>TotalDeposits</th>\n",
       "      <th>TotalWithdrawals</th>\n",
       "      <th>MonthlyIncome</th>\n",
       "      <th>FinancialInvestmentsValue</th>\n",
       "      <th>Age</th>\n",
       "      <th>ComputedRiskTolerance</th>\n",
       "    </tr>\n",
       "  </thead>\n",
       "  <tbody>\n",
       "    <tr>\n",
       "      <th>0</th>\n",
       "      <td>60a7d0011363ea0011d0eb80</td>\n",
       "      <td>192260</td>\n",
       "      <td>601.525833</td>\n",
       "      <td>2021-06-10 21:23:31</td>\n",
       "      <td>100.013269</td>\n",
       "      <td>5</td>\n",
       "      <td>0</td>\n",
       "      <td>250.0</td>\n",
       "      <td>3000.0</td>\n",
       "      <td>14</td>\n",
       "      <td>22.22</td>\n",
       "    </tr>\n",
       "    <tr>\n",
       "      <th>1</th>\n",
       "      <td>60c77e1ffdaebd001875353e</td>\n",
       "      <td>192853</td>\n",
       "      <td>1798.831206</td>\n",
       "      <td>2021-06-14 16:13:56</td>\n",
       "      <td>300.048411</td>\n",
       "      <td>2</td>\n",
       "      <td>0</td>\n",
       "      <td>8000.0</td>\n",
       "      <td>180000.0</td>\n",
       "      <td>35</td>\n",
       "      <td>77.78</td>\n",
       "    </tr>\n",
       "    <tr>\n",
       "      <th>2</th>\n",
       "      <td>588f45ae0a760bb65b380afa</td>\n",
       "      <td>11897</td>\n",
       "      <td>1621.043680</td>\n",
       "      <td>2017-09-14 12:08:06</td>\n",
       "      <td>2500.000000</td>\n",
       "      <td>13</td>\n",
       "      <td>2</td>\n",
       "      <td>4500.0</td>\n",
       "      <td>0.0</td>\n",
       "      <td>32</td>\n",
       "      <td>17.00</td>\n",
       "    </tr>\n",
       "    <tr>\n",
       "      <th>3</th>\n",
       "      <td>5915d73623d4b1881694e11e</td>\n",
       "      <td>12583</td>\n",
       "      <td>78643.814178</td>\n",
       "      <td>2017-09-25 15:44:40</td>\n",
       "      <td>2005.000000</td>\n",
       "      <td>37</td>\n",
       "      <td>7</td>\n",
       "      <td>18000.0</td>\n",
       "      <td>120000.0</td>\n",
       "      <td>34</td>\n",
       "      <td>69.17</td>\n",
       "    </tr>\n",
       "    <tr>\n",
       "      <th>4</th>\n",
       "      <td>591f5f3b3daa47c6488bce3f</td>\n",
       "      <td>5564</td>\n",
       "      <td>422.691159</td>\n",
       "      <td>2017-05-22 18:38:05</td>\n",
       "      <td>2000.000000</td>\n",
       "      <td>23</td>\n",
       "      <td>7</td>\n",
       "      <td>2000.0</td>\n",
       "      <td>45000.0</td>\n",
       "      <td>29</td>\n",
       "      <td>0.00</td>\n",
       "    </tr>\n",
       "    <tr>\n",
       "      <th>5</th>\n",
       "      <td>5966a3dc3d3c271d31a9e17f</td>\n",
       "      <td>7597</td>\n",
       "      <td>1703.689481</td>\n",
       "      <td>2017-07-13 15:11:03</td>\n",
       "      <td>1000.000000</td>\n",
       "      <td>52</td>\n",
       "      <td>30</td>\n",
       "      <td>8800.0</td>\n",
       "      <td>0.0</td>\n",
       "      <td>31</td>\n",
       "      <td>15.50</td>\n",
       "    </tr>\n",
       "    <tr>\n",
       "      <th>6</th>\n",
       "      <td>59fa4a0b7553e32694677234</td>\n",
       "      <td>16185</td>\n",
       "      <td>3237.225992</td>\n",
       "      <td>2017-11-06 17:18:00</td>\n",
       "      <td>4800.000000</td>\n",
       "      <td>48</td>\n",
       "      <td>17</td>\n",
       "      <td>3150.0</td>\n",
       "      <td>0.0</td>\n",
       "      <td>31</td>\n",
       "      <td>15.00</td>\n",
       "    </tr>\n",
       "    <tr>\n",
       "      <th>7</th>\n",
       "      <td>5a12d0c07a8a363308626995</td>\n",
       "      <td>136072</td>\n",
       "      <td>0.000000</td>\n",
       "      <td>2020-05-25 18:20:13</td>\n",
       "      <td>250.000000</td>\n",
       "      <td>10</td>\n",
       "      <td>6</td>\n",
       "      <td>2500.0</td>\n",
       "      <td>0.0</td>\n",
       "      <td>22</td>\n",
       "      <td>11.50</td>\n",
       "    </tr>\n",
       "    <tr>\n",
       "      <th>8</th>\n",
       "      <td>5a16d2947a8a363308646458</td>\n",
       "      <td>35402</td>\n",
       "      <td>27880.571845</td>\n",
       "      <td>2018-03-26 14:52:16</td>\n",
       "      <td>500.000000</td>\n",
       "      <td>47</td>\n",
       "      <td>15</td>\n",
       "      <td>7150.0</td>\n",
       "      <td>0.0</td>\n",
       "      <td>28</td>\n",
       "      <td>26.00</td>\n",
       "    </tr>\n",
       "    <tr>\n",
       "      <th>9</th>\n",
       "      <td>5a21fe6bcb940a6cea0a9c89</td>\n",
       "      <td>21478</td>\n",
       "      <td>206184.528952</td>\n",
       "      <td>2017-12-05 12:55:15</td>\n",
       "      <td>200.000000</td>\n",
       "      <td>93</td>\n",
       "      <td>5</td>\n",
       "      <td>16000.0</td>\n",
       "      <td>200000.0</td>\n",
       "      <td>38</td>\n",
       "      <td>24.00</td>\n",
       "    </tr>\n",
       "  </tbody>\n",
       "</table>\n",
       "</div>"
      ],
      "text/plain": [
       "              CustomerApiid  CustomerId            AUM        RegisterDate  \\\n",
       "0  60a7d0011363ea0011d0eb80      192260     601.525833 2021-06-10 21:23:31   \n",
       "1  60c77e1ffdaebd001875353e      192853    1798.831206 2021-06-14 16:13:56   \n",
       "2  588f45ae0a760bb65b380afa       11897    1621.043680 2017-09-14 12:08:06   \n",
       "3  5915d73623d4b1881694e11e       12583   78643.814178 2017-09-25 15:44:40   \n",
       "4  591f5f3b3daa47c6488bce3f        5564     422.691159 2017-05-22 18:38:05   \n",
       "5  5966a3dc3d3c271d31a9e17f        7597    1703.689481 2017-07-13 15:11:03   \n",
       "6  59fa4a0b7553e32694677234       16185    3237.225992 2017-11-06 17:18:00   \n",
       "7  5a12d0c07a8a363308626995      136072       0.000000 2020-05-25 18:20:13   \n",
       "8  5a16d2947a8a363308646458       35402   27880.571845 2018-03-26 14:52:16   \n",
       "9  5a21fe6bcb940a6cea0a9c89       21478  206184.528952 2017-12-05 12:55:15   \n",
       "\n",
       "   AmountFirstDeposit  TotalDeposits  TotalWithdrawals  MonthlyIncome  \\\n",
       "0          100.013269              5                 0          250.0   \n",
       "1          300.048411              2                 0         8000.0   \n",
       "2         2500.000000             13                 2         4500.0   \n",
       "3         2005.000000             37                 7        18000.0   \n",
       "4         2000.000000             23                 7         2000.0   \n",
       "5         1000.000000             52                30         8800.0   \n",
       "6         4800.000000             48                17         3150.0   \n",
       "7          250.000000             10                 6         2500.0   \n",
       "8          500.000000             47                15         7150.0   \n",
       "9          200.000000             93                 5        16000.0   \n",
       "\n",
       "   FinancialInvestmentsValue  Age  ComputedRiskTolerance  \n",
       "0                     3000.0   14                  22.22  \n",
       "1                   180000.0   35                  77.78  \n",
       "2                        0.0   32                  17.00  \n",
       "3                   120000.0   34                  69.17  \n",
       "4                    45000.0   29                   0.00  \n",
       "5                        0.0   31                  15.50  \n",
       "6                        0.0   31                  15.00  \n",
       "7                        0.0   22                  11.50  \n",
       "8                        0.0   28                  26.00  \n",
       "9                   200000.0   38                  24.00  "
      ]
     },
     "execution_count": 5,
     "metadata": {},
     "output_type": "execute_result"
    }
   ],
   "source": [
    "# Visualizando as tabelas da base de dados: \n",
    "customers = pd.read_sql_query(r\"\"\"\n",
    "    SELECT * FROM Customers\n",
    "    \"\"\", \n",
    "    cnx\n",
    "    )\n",
    "\n",
    "customers.head(10)"
   ]
  },
  {
   "cell_type": "code",
   "execution_count": 6,
   "metadata": {},
   "outputs": [],
   "source": [
    "transactions = pd.read_sql_query(r\"\"\"\n",
    "    SELECT * FROM Transactions\n",
    "    \"\"\", \n",
    "    cnx\n",
    "    )"
   ]
  },
  {
   "cell_type": "code",
   "execution_count": 7,
   "metadata": {},
   "outputs": [],
   "source": [
    "# Ordenando os dados a partir da data\n",
    "transactions = transactions.sort_values(by=\"OperatedAt\")"
   ]
  },
  {
   "cell_type": "code",
   "execution_count": 8,
   "metadata": {},
   "outputs": [
    {
     "data": {
      "text/html": [
       "<div>\n",
       "<style scoped>\n",
       "    .dataframe tbody tr th:only-of-type {\n",
       "        vertical-align: middle;\n",
       "    }\n",
       "\n",
       "    .dataframe tbody tr th {\n",
       "        vertical-align: top;\n",
       "    }\n",
       "\n",
       "    .dataframe thead th {\n",
       "        text-align: right;\n",
       "    }\n",
       "</style>\n",
       "<table border=\"1\" class=\"dataframe\">\n",
       "  <thead>\n",
       "    <tr style=\"text-align: right;\">\n",
       "      <th></th>\n",
       "      <th>Id</th>\n",
       "      <th>Direction</th>\n",
       "      <th>Amount</th>\n",
       "      <th>CustomerId</th>\n",
       "      <th>OperatedAt</th>\n",
       "    </tr>\n",
       "  </thead>\n",
       "  <tbody>\n",
       "    <tr>\n",
       "      <th>159556</th>\n",
       "      <td>1895740</td>\n",
       "      <td>10</td>\n",
       "      <td>1000.0</td>\n",
       "      <td>144730</td>\n",
       "      <td>2021-07-13 00:00:00</td>\n",
       "    </tr>\n",
       "    <tr>\n",
       "      <th>157877</th>\n",
       "      <td>1894460</td>\n",
       "      <td>10</td>\n",
       "      <td>100.0</td>\n",
       "      <td>144233</td>\n",
       "      <td>2021-07-13 00:00:00</td>\n",
       "    </tr>\n",
       "    <tr>\n",
       "      <th>161457</th>\n",
       "      <td>1897216</td>\n",
       "      <td>10</td>\n",
       "      <td>6360.0</td>\n",
       "      <td>63576</td>\n",
       "      <td>2021-07-13 00:00:00</td>\n",
       "    </tr>\n",
       "    <tr>\n",
       "      <th>163244</th>\n",
       "      <td>1898864</td>\n",
       "      <td>10</td>\n",
       "      <td>1000.0</td>\n",
       "      <td>137444</td>\n",
       "      <td>2021-07-13 00:00:00</td>\n",
       "    </tr>\n",
       "    <tr>\n",
       "      <th>162482</th>\n",
       "      <td>1898282</td>\n",
       "      <td>10</td>\n",
       "      <td>110.0</td>\n",
       "      <td>97727</td>\n",
       "      <td>2021-07-13 00:00:00</td>\n",
       "    </tr>\n",
       "    <tr>\n",
       "      <th>157884</th>\n",
       "      <td>1894461</td>\n",
       "      <td>10</td>\n",
       "      <td>1000.0</td>\n",
       "      <td>166757</td>\n",
       "      <td>2021-07-13 00:00:00</td>\n",
       "    </tr>\n",
       "    <tr>\n",
       "      <th>159244</th>\n",
       "      <td>1895544</td>\n",
       "      <td>10</td>\n",
       "      <td>100.0</td>\n",
       "      <td>41916</td>\n",
       "      <td>2021-07-13 00:00:00</td>\n",
       "    </tr>\n",
       "    <tr>\n",
       "      <th>162451</th>\n",
       "      <td>1898265</td>\n",
       "      <td>10</td>\n",
       "      <td>1500.0</td>\n",
       "      <td>75777</td>\n",
       "      <td>2021-07-13 00:00:00</td>\n",
       "    </tr>\n",
       "    <tr>\n",
       "      <th>162608</th>\n",
       "      <td>1898384</td>\n",
       "      <td>10</td>\n",
       "      <td>500.0</td>\n",
       "      <td>191361</td>\n",
       "      <td>2021-07-13 00:00:00</td>\n",
       "    </tr>\n",
       "    <tr>\n",
       "      <th>163722</th>\n",
       "      <td>1869082</td>\n",
       "      <td>10</td>\n",
       "      <td>500.0</td>\n",
       "      <td>189524</td>\n",
       "      <td>2021-07-13 00:43:37</td>\n",
       "    </tr>\n",
       "  </tbody>\n",
       "</table>\n",
       "</div>"
      ],
      "text/plain": [
       "             Id  Direction  Amount  CustomerId          OperatedAt\n",
       "159556  1895740         10  1000.0      144730 2021-07-13 00:00:00\n",
       "157877  1894460         10   100.0      144233 2021-07-13 00:00:00\n",
       "161457  1897216         10  6360.0       63576 2021-07-13 00:00:00\n",
       "163244  1898864         10  1000.0      137444 2021-07-13 00:00:00\n",
       "162482  1898282         10   110.0       97727 2021-07-13 00:00:00\n",
       "157884  1894461         10  1000.0      166757 2021-07-13 00:00:00\n",
       "159244  1895544         10   100.0       41916 2021-07-13 00:00:00\n",
       "162451  1898265         10  1500.0       75777 2021-07-13 00:00:00\n",
       "162608  1898384         10   500.0      191361 2021-07-13 00:00:00\n",
       "163722  1869082         10   500.0      189524 2021-07-13 00:43:37"
      ]
     },
     "execution_count": 8,
     "metadata": {},
     "output_type": "execute_result"
    }
   ],
   "source": [
    "# Verificando as datas de início e fim do df \n",
    "transactions.tail(10)"
   ]
  },
  {
   "cell_type": "code",
   "execution_count": 9,
   "metadata": {},
   "outputs": [
    {
     "data": {
      "text/html": [
       "<div>\n",
       "<style scoped>\n",
       "    .dataframe tbody tr th:only-of-type {\n",
       "        vertical-align: middle;\n",
       "    }\n",
       "\n",
       "    .dataframe tbody tr th {\n",
       "        vertical-align: top;\n",
       "    }\n",
       "\n",
       "    .dataframe thead th {\n",
       "        text-align: right;\n",
       "    }\n",
       "</style>\n",
       "<table border=\"1\" class=\"dataframe\">\n",
       "  <thead>\n",
       "    <tr style=\"text-align: right;\">\n",
       "      <th></th>\n",
       "      <th>Id</th>\n",
       "      <th>Direction</th>\n",
       "      <th>Amount</th>\n",
       "      <th>CustomerId</th>\n",
       "      <th>OperatedAt</th>\n",
       "    </tr>\n",
       "  </thead>\n",
       "  <tbody>\n",
       "    <tr>\n",
       "      <th>260</th>\n",
       "      <td>1193306</td>\n",
       "      <td>10</td>\n",
       "      <td>12800.0</td>\n",
       "      <td>12431</td>\n",
       "      <td>2021-01-01 00:00:30</td>\n",
       "    </tr>\n",
       "    <tr>\n",
       "      <th>573</th>\n",
       "      <td>1200034</td>\n",
       "      <td>10</td>\n",
       "      <td>20000.0</td>\n",
       "      <td>117985</td>\n",
       "      <td>2021-01-01 00:01:33</td>\n",
       "    </tr>\n",
       "    <tr>\n",
       "      <th>452</th>\n",
       "      <td>1198402</td>\n",
       "      <td>10</td>\n",
       "      <td>50.0</td>\n",
       "      <td>95724</td>\n",
       "      <td>2021-01-01 00:02:08</td>\n",
       "    </tr>\n",
       "    <tr>\n",
       "      <th>521</th>\n",
       "      <td>1199295</td>\n",
       "      <td>10</td>\n",
       "      <td>200.0</td>\n",
       "      <td>136323</td>\n",
       "      <td>2021-01-01 00:02:35</td>\n",
       "    </tr>\n",
       "    <tr>\n",
       "      <th>486</th>\n",
       "      <td>1198878</td>\n",
       "      <td>10</td>\n",
       "      <td>2000.0</td>\n",
       "      <td>138207</td>\n",
       "      <td>2021-01-01 00:02:58</td>\n",
       "    </tr>\n",
       "    <tr>\n",
       "      <th>442</th>\n",
       "      <td>1198295</td>\n",
       "      <td>10</td>\n",
       "      <td>300.0</td>\n",
       "      <td>116255</td>\n",
       "      <td>2021-01-01 00:04:00</td>\n",
       "    </tr>\n",
       "    <tr>\n",
       "      <th>346</th>\n",
       "      <td>1195804</td>\n",
       "      <td>10</td>\n",
       "      <td>100.0</td>\n",
       "      <td>16655</td>\n",
       "      <td>2021-01-01 00:04:16</td>\n",
       "    </tr>\n",
       "    <tr>\n",
       "      <th>467</th>\n",
       "      <td>1198751</td>\n",
       "      <td>10</td>\n",
       "      <td>600.0</td>\n",
       "      <td>86678</td>\n",
       "      <td>2021-01-01 00:04:44</td>\n",
       "    </tr>\n",
       "    <tr>\n",
       "      <th>408</th>\n",
       "      <td>1197389</td>\n",
       "      <td>10</td>\n",
       "      <td>6000.0</td>\n",
       "      <td>39685</td>\n",
       "      <td>2021-01-01 00:05:36</td>\n",
       "    </tr>\n",
       "    <tr>\n",
       "      <th>555</th>\n",
       "      <td>1199823</td>\n",
       "      <td>10</td>\n",
       "      <td>50.0</td>\n",
       "      <td>148881</td>\n",
       "      <td>2021-01-01 00:05:41</td>\n",
       "    </tr>\n",
       "  </tbody>\n",
       "</table>\n",
       "</div>"
      ],
      "text/plain": [
       "          Id  Direction   Amount  CustomerId          OperatedAt\n",
       "260  1193306         10  12800.0       12431 2021-01-01 00:00:30\n",
       "573  1200034         10  20000.0      117985 2021-01-01 00:01:33\n",
       "452  1198402         10     50.0       95724 2021-01-01 00:02:08\n",
       "521  1199295         10    200.0      136323 2021-01-01 00:02:35\n",
       "486  1198878         10   2000.0      138207 2021-01-01 00:02:58\n",
       "442  1198295         10    300.0      116255 2021-01-01 00:04:00\n",
       "346  1195804         10    100.0       16655 2021-01-01 00:04:16\n",
       "467  1198751         10    600.0       86678 2021-01-01 00:04:44\n",
       "408  1197389         10   6000.0       39685 2021-01-01 00:05:36\n",
       "555  1199823         10     50.0      148881 2021-01-01 00:05:41"
      ]
     },
     "execution_count": 9,
     "metadata": {},
     "output_type": "execute_result"
    }
   ],
   "source": [
    "transactions.head(10)"
   ]
  },
  {
   "cell_type": "code",
   "execution_count": 10,
   "metadata": {},
   "outputs": [
    {
     "data": {
      "text/html": [
       "<div>\n",
       "<style scoped>\n",
       "    .dataframe tbody tr th:only-of-type {\n",
       "        vertical-align: middle;\n",
       "    }\n",
       "\n",
       "    .dataframe tbody tr th {\n",
       "        vertical-align: top;\n",
       "    }\n",
       "\n",
       "    .dataframe thead th {\n",
       "        text-align: right;\n",
       "    }\n",
       "</style>\n",
       "<table border=\"1\" class=\"dataframe\">\n",
       "  <thead>\n",
       "    <tr style=\"text-align: right;\">\n",
       "      <th></th>\n",
       "      <th>EventDate</th>\n",
       "      <th>Platform</th>\n",
       "      <th>CustomerApiid</th>\n",
       "    </tr>\n",
       "  </thead>\n",
       "  <tbody>\n",
       "    <tr>\n",
       "      <th>0</th>\n",
       "      <td>20210112</td>\n",
       "      <td>IOS</td>\n",
       "      <td>5eb045b00d281d0010993b19</td>\n",
       "    </tr>\n",
       "    <tr>\n",
       "      <th>1</th>\n",
       "      <td>20210112</td>\n",
       "      <td>IOS</td>\n",
       "      <td>5d54036d7a4e2a00129ac685</td>\n",
       "    </tr>\n",
       "    <tr>\n",
       "      <th>2</th>\n",
       "      <td>20210112</td>\n",
       "      <td>IOS</td>\n",
       "      <td>5f160ad08df61f00175d4a94</td>\n",
       "    </tr>\n",
       "    <tr>\n",
       "      <th>3</th>\n",
       "      <td>20210112</td>\n",
       "      <td>IOS</td>\n",
       "      <td>5e1f7e25a6a96a0010ee1545</td>\n",
       "    </tr>\n",
       "    <tr>\n",
       "      <th>4</th>\n",
       "      <td>20210112</td>\n",
       "      <td>IOS</td>\n",
       "      <td>5e66a9a9e7bbca00119eb5fc</td>\n",
       "    </tr>\n",
       "    <tr>\n",
       "      <th>5</th>\n",
       "      <td>20210112</td>\n",
       "      <td>IOS</td>\n",
       "      <td>587f52fa8d72add918f62a38</td>\n",
       "    </tr>\n",
       "    <tr>\n",
       "      <th>6</th>\n",
       "      <td>20210112</td>\n",
       "      <td>IOS</td>\n",
       "      <td>5a71c28d4e68a177834a82dd</td>\n",
       "    </tr>\n",
       "    <tr>\n",
       "      <th>7</th>\n",
       "      <td>20210112</td>\n",
       "      <td>IOS</td>\n",
       "      <td>59e208138610ac0555c879d7</td>\n",
       "    </tr>\n",
       "    <tr>\n",
       "      <th>8</th>\n",
       "      <td>20210112</td>\n",
       "      <td>IOS</td>\n",
       "      <td>5bf6b4248149ba000f9c616d</td>\n",
       "    </tr>\n",
       "    <tr>\n",
       "      <th>9</th>\n",
       "      <td>20210112</td>\n",
       "      <td>IOS</td>\n",
       "      <td>5fac36cd2b11830017d474f7</td>\n",
       "    </tr>\n",
       "  </tbody>\n",
       "</table>\n",
       "</div>"
      ],
      "text/plain": [
       "  EventDate Platform             CustomerApiid\n",
       "0  20210112      IOS  5eb045b00d281d0010993b19\n",
       "1  20210112      IOS  5d54036d7a4e2a00129ac685\n",
       "2  20210112      IOS  5f160ad08df61f00175d4a94\n",
       "3  20210112      IOS  5e1f7e25a6a96a0010ee1545\n",
       "4  20210112      IOS  5e66a9a9e7bbca00119eb5fc\n",
       "5  20210112      IOS  587f52fa8d72add918f62a38\n",
       "6  20210112      IOS  5a71c28d4e68a177834a82dd\n",
       "7  20210112      IOS  59e208138610ac0555c879d7\n",
       "8  20210112      IOS  5bf6b4248149ba000f9c616d\n",
       "9  20210112      IOS  5fac36cd2b11830017d474f7"
      ]
     },
     "execution_count": 10,
     "metadata": {},
     "output_type": "execute_result"
    }
   ],
   "source": [
    "# Ainda visualizando as bases de dados\n",
    "events = pd.read_sql_query(r\"\"\"\n",
    "    SELECT * FROM Events\n",
    "    \"\"\", \n",
    "    cnx\n",
    "    )\n",
    "\n",
    "events.head(10)"
   ]
  },
  {
   "cell_type": "code",
   "execution_count": 11,
   "metadata": {},
   "outputs": [
    {
     "data": {
      "text/plain": [
       "(27161, 11)"
      ]
     },
     "execution_count": 11,
     "metadata": {},
     "output_type": "execute_result"
    }
   ],
   "source": [
    "# Investigando os dados, verificando tamanho e missing values \n",
    "customers.shape"
   ]
  },
  {
   "cell_type": "code",
   "execution_count": 12,
   "metadata": {},
   "outputs": [
    {
     "data": {
      "text/plain": [
       "CustomerApiid                False\n",
       "CustomerId                   False\n",
       "AUM                          False\n",
       "RegisterDate                 False\n",
       "AmountFirstDeposit           False\n",
       "TotalDeposits                False\n",
       "TotalWithdrawals             False\n",
       "MonthlyIncome                False\n",
       "FinancialInvestmentsValue    False\n",
       "Age                          False\n",
       "ComputedRiskTolerance        False\n",
       "dtype: bool"
      ]
     },
     "execution_count": 12,
     "metadata": {},
     "output_type": "execute_result"
    }
   ],
   "source": [
    "customers.isna().any()"
   ]
  },
  {
   "cell_type": "code",
   "execution_count": 13,
   "metadata": {},
   "outputs": [
    {
     "data": {
      "text/plain": [
       "(167864, 5)"
      ]
     },
     "execution_count": 13,
     "metadata": {},
     "output_type": "execute_result"
    }
   ],
   "source": [
    "transactions.shape"
   ]
  },
  {
   "cell_type": "code",
   "execution_count": 14,
   "metadata": {},
   "outputs": [
    {
     "data": {
      "text/plain": [
       "Id            False\n",
       "Direction     False\n",
       "Amount        False\n",
       "CustomerId    False\n",
       "OperatedAt    False\n",
       "dtype: bool"
      ]
     },
     "execution_count": 14,
     "metadata": {},
     "output_type": "execute_result"
    }
   ],
   "source": [
    "transactions.isna().any()"
   ]
  },
  {
   "cell_type": "code",
   "execution_count": 15,
   "metadata": {},
   "outputs": [
    {
     "data": {
      "text/plain": [
       "(1103019, 3)"
      ]
     },
     "execution_count": 15,
     "metadata": {},
     "output_type": "execute_result"
    }
   ],
   "source": [
    "events.shape"
   ]
  },
  {
   "cell_type": "code",
   "execution_count": 16,
   "metadata": {},
   "outputs": [
    {
     "data": {
      "text/plain": [
       "EventDate        False\n",
       "Platform         False\n",
       "CustomerApiid    False\n",
       "dtype: bool"
      ]
     },
     "execution_count": 16,
     "metadata": {},
     "output_type": "execute_result"
    }
   ],
   "source": [
    "events.isna().any()"
   ]
  },
  {
   "cell_type": "markdown",
   "metadata": {},
   "source": [
    "##### Qual o volume de dinheiro que está entrando/saindo da Warren hoje e como se compara aos períodos passados? Qual a previsão para os próximos meses?"
   ]
  },
  {
   "cell_type": "code",
   "execution_count": 17,
   "metadata": {},
   "outputs": [],
   "source": [
    "# Selecionando os dados necessários para essa análise\n",
    "transactions_volum = pd.read_sql_query(r\"\"\"\n",
    "                                        SELECT Direction, MONTH(OperatedAt) as Mês, \n",
    "                                            SUM(Amount) AS Volume_Transações\n",
    "                                        FROM Transactions\n",
    "                                        GROUP BY Mês, Direction\n",
    "                                        ORDER BY Mês ASC\n",
    "                                        \n",
    "\"\"\", cnx)"
   ]
  },
  {
   "cell_type": "code",
   "execution_count": 18,
   "metadata": {},
   "outputs": [],
   "source": [
    "# Armazenando em um Dataframe e arrumando os dados\n",
    "tt = pd.DataFrame(transactions_volum)\n",
    "tt[\"Volume_Transações\"] = tt[\"Volume_Transações\"].round(2)"
   ]
  },
  {
   "cell_type": "code",
   "execution_count": 19,
   "metadata": {},
   "outputs": [
    {
     "data": {
      "image/png": "[encoded data removed]",
      "text/plain": [
       "<Figure size 407.625x360 with 1 Axes>"
      ]
     },
     "metadata": {},
     "output_type": "display_data"
    }
   ],
   "source": [
    "# Construindo um gráfico de barras que reúna essas informações\n",
    "sns.set_style(\"whitegrid\")\n",
    "g = sns.catplot(kind=\"bar\", data=tt, x=\"Mês\", y=\"Volume_Transações\", hue=\"Direction\", \n",
    "                    palette=\"rocket\", orient=\"v\")\n",
    "plt.ylim(1 * 1e+07, 35 * 1e+07)\n",
    "g.set_axis_labels(\"Mês\", \"Volume de Transações em Centenas de Milhões\")\n",
    "g.legend.set_title(\"Direção\")\n",
    "plt.title(\"Volume de Entrada e Saída por Mês\")\n",
    "plt.show()"
   ]
  },
  {
   "cell_type": "code",
   "execution_count": 20,
   "metadata": {},
   "outputs": [
    {
     "data": {
      "image/png": "[encoded data removed]",
      "text/plain": [
       "<Figure size 407.625x360 with 1 Axes>"
      ]
     },
     "metadata": {},
     "output_type": "display_data"
    }
   ],
   "source": [
    "# Construíndo um gráfico de dispersão que mostre a linha de tendência\n",
    "g2 = sns.catplot(x=\"Mês\", y=\"Volume_Transações\", hue=\"Direction\",\n",
    "            palette=\"rocket\",\n",
    "            markers=[\"^\", \"o\"], linestyles=[\"-\", \"--\"],\n",
    "            kind=\"point\", data=tt)\n",
    "plt.xlabel(\"Mês\")\n",
    "plt.ylabel(\"Volume de Transações em Centenas de Milhões\")\n",
    "plt.title(\"Volume de Transações com Linha de Tendência\")\n",
    "plt.show()"
   ]
  },
  {
   "cell_type": "code",
   "execution_count": 21,
   "metadata": {},
   "outputs": [
    {
     "data": {
      "image/png": "[encoded data removed]",
      "text/plain": [
       "<Figure size 576x288 with 2 Axes>"
      ]
     },
     "metadata": {},
     "output_type": "display_data"
    }
   ],
   "source": [
    "# Grafico de Dispersão com linha de tendência para cada uma das operações em separado\n",
    "g3 = sns.lmplot(x=\"Mês\", y=\"Volume_Transações\", col=\"Direction\", hue=\"Direction\", data=tt,\n",
    "           col_wrap=2, ci=None, palette=\"rocket\", height=4,\n",
    "           scatter_kws={\"s\": 50, \"alpha\": 1})\n",
    "plt.show()"
   ]
  },
  {
   "cell_type": "markdown",
   "metadata": {},
   "source": [
    "O mês de julho apenas tem dados até o dia 13, nesse sentido podemos selecionar os primeiros 13 dias de cada mês e repetir as análises anteriores, para fins de comparação;"
   ]
  },
  {
   "cell_type": "code",
   "execution_count": 22,
   "metadata": {},
   "outputs": [],
   "source": [
    "# Selecionando as transações que ocorrem nos primeiros 13 dias de cada mês para comparação com \n",
    "# o mês de julho\n",
    "transactions_volumm = pd.read_sql_query(r\"\"\"\n",
    "                                        SELECT Direction, MONTH(OperatedAt) AS Mês, \n",
    "                                            DAYOFMONTH(OperatedAt) AS dia, SUM(Amount) as Volume_Transações \n",
    "                                        FROM Transactions\n",
    "                                        WHERE DAYOFMONTH(OperatedAt) BETWEEN 01 AND 13 \n",
    "                                        GROUP BY Mês, Direction\n",
    "                                        ORDER BY Mês ASC\n",
    "                                        \n",
    "\"\"\", cnx)"
   ]
  },
  {
   "cell_type": "code",
   "execution_count": 23,
   "metadata": {},
   "outputs": [],
   "source": [
    "# Adicionando a consulta em um Dataframe\n",
    "ttm = pd.DataFrame(transactions_volumm)"
   ]
  },
  {
   "cell_type": "code",
   "execution_count": 24,
   "metadata": {},
   "outputs": [
    {
     "data": {
      "image/png": "[encoded data removed]",
      "text/plain": [
       "<Figure size 407.625x360 with 1 Axes>"
      ]
     },
     "metadata": {},
     "output_type": "display_data"
    }
   ],
   "source": [
    "# Construindo os mesmos gráficos para o novo df\n",
    "sns.set_style(\"whitegrid\")\n",
    "g4 = sns.catplot(kind='bar', data=ttm, x=\"Mês\", y=\"Volume_Transações\", hue=\"Direction\", palette=\"rocket\", legend=True)\n",
    "g.despine(left=True)\n",
    "g.set_axis_labels(\"Mês\", \"Volume de Transações\")\n",
    "g.legend.set_title(\"Direção\")\n",
    "plt.title(\"Volume de Transações até o dia 13 de cada Mês\")\n",
    "plt.show()"
   ]
  },
  {
   "cell_type": "code",
   "execution_count": 25,
   "metadata": {},
   "outputs": [
    {
     "data": {
      "image/png": "[encoded data removed]",
      "text/plain": [
       "<Figure size 407.625x360 with 1 Axes>"
      ]
     },
     "metadata": {},
     "output_type": "display_data"
    }
   ],
   "source": [
    "g5 = sns.catplot(x=\"Mês\", y=\"Volume_Transações\", hue=\"Direction\",\n",
    "            palette=\"rocket\",\n",
    "            markers=[\"^\", \"o\"], linestyles=[\"-\", \"--\"],\n",
    "            kind=\"point\", data=ttm)\n",
    "plt.show()"
   ]
  },
  {
   "cell_type": "markdown",
   "metadata": {},
   "source": [
    "Por esses gráficos podemos ver que nesse mês o total de entradas e saídas está menor que nos meses anteriores, mas temos que considerar que para o mês 7 temos apenas registros até o dia 13. Nesse sentido, podemos pensar que haverão o dobro de transações ainda nesse mês. \n",
    "O mês de maio foi um mês atípico, mantendo o número de saques, mas aumentando bastante o número de depósitos. \n",
    "\n",
    "Se analisarmos os gráficos de tendência, podemos ver que a linha de tendência está crescendo um pouco nas entradas e descrecendo muito levemente nas saídas. Ou seja, para os próximos meses podemos esperar resultados parecidos com dos meses passados (sem contar maio).\n",
    "\n",
    "Os gráficos com resultados de Entrada e Saída apenas até o dia 13 de cada mês, confirmam essa conclusão. "
   ]
  },
  {
   "cell_type": "markdown",
   "metadata": {},
   "source": [
    "##### Quanto estamos crescendo relativo ao valor que já possuímos dentro da Warren? Esse crescimento está em alta/baixa? Qual a tendência atual?"
   ]
  },
  {
   "cell_type": "code",
   "execution_count": 26,
   "metadata": {},
   "outputs": [],
   "source": [
    "# Fazendo a consulta dos dados que respondam essa questão, somando todo valor dentro da Warren\n",
    "aum_query = pd.read_sql_query(r\"\"\"\n",
    "                                SELECT SUM(AUM) AS Valor_Total\n",
    "                                FROM Customers\n",
    "\"\"\", cnx)"
   ]
  },
  {
   "cell_type": "code",
   "execution_count": 27,
   "metadata": {},
   "outputs": [
    {
     "data": {
      "text/html": [
       "<div>\n",
       "<style scoped>\n",
       "    .dataframe tbody tr th:only-of-type {\n",
       "        vertical-align: middle;\n",
       "    }\n",
       "\n",
       "    .dataframe tbody tr th {\n",
       "        vertical-align: top;\n",
       "    }\n",
       "\n",
       "    .dataframe thead th {\n",
       "        text-align: right;\n",
       "    }\n",
       "</style>\n",
       "<table border=\"1\" class=\"dataframe\">\n",
       "  <thead>\n",
       "    <tr style=\"text-align: right;\">\n",
       "      <th></th>\n",
       "      <th>Valor_Total</th>\n",
       "    </tr>\n",
       "  </thead>\n",
       "  <tbody>\n",
       "    <tr>\n",
       "      <th>0</th>\n",
       "      <td>2.691089e+09</td>\n",
       "    </tr>\n",
       "  </tbody>\n",
       "</table>\n",
       "</div>"
      ],
      "text/plain": [
       "    Valor_Total\n",
       "0  2.691089e+09"
      ]
     },
     "execution_count": 27,
     "metadata": {},
     "output_type": "execute_result"
    }
   ],
   "source": [
    "# Visualizando o valor total calculado\n",
    "aum_query"
   ]
  },
  {
   "cell_type": "code",
   "execution_count": 28,
   "metadata": {},
   "outputs": [],
   "source": [
    "# Somando o valor que clientes cadastrados em 2021 tem na Warren\n",
    "# Ou seja, valor obtido esse ano\n",
    "aum_2021 = pd.read_sql_query(r\"\"\"\n",
    "                                SELECT SUM(AUM) AS Valor_2021\n",
    "                                FROM Customers\n",
    "                                WHERE YEAR(RegisterDate) = 2021\n",
    "\"\"\", cnx)"
   ]
  },
  {
   "cell_type": "code",
   "execution_count": 29,
   "metadata": {},
   "outputs": [
    {
     "data": {
      "text/html": [
       "<div>\n",
       "<style scoped>\n",
       "    .dataframe tbody tr th:only-of-type {\n",
       "        vertical-align: middle;\n",
       "    }\n",
       "\n",
       "    .dataframe tbody tr th {\n",
       "        vertical-align: top;\n",
       "    }\n",
       "\n",
       "    .dataframe thead th {\n",
       "        text-align: right;\n",
       "    }\n",
       "</style>\n",
       "<table border=\"1\" class=\"dataframe\">\n",
       "  <thead>\n",
       "    <tr style=\"text-align: right;\">\n",
       "      <th></th>\n",
       "      <th>Valor_2021</th>\n",
       "    </tr>\n",
       "  </thead>\n",
       "  <tbody>\n",
       "    <tr>\n",
       "      <th>0</th>\n",
       "      <td>4.825127e+08</td>\n",
       "    </tr>\n",
       "  </tbody>\n",
       "</table>\n",
       "</div>"
      ],
      "text/plain": [
       "     Valor_2021\n",
       "0  4.825127e+08"
      ]
     },
     "execution_count": 29,
     "metadata": {},
     "output_type": "execute_result"
    }
   ],
   "source": [
    "aum_2021"
   ]
  },
  {
   "cell_type": "code",
   "execution_count": 30,
   "metadata": {},
   "outputs": [
    {
     "data": {
      "text/plain": [
       "5.577239728612325"
      ]
     },
     "execution_count": 30,
     "metadata": {},
     "output_type": "execute_result"
    }
   ],
   "source": [
    "# Dividimos o valor total pelo valor somado esse ano\n",
    "# Lembrando que o somado apenas dos clientes que se cadastraram esse ano e não total desse ano\n",
    "2.691089e+09 / (4.825127e+08)"
   ]
  },
  {
   "cell_type": "code",
   "execution_count": 31,
   "metadata": {},
   "outputs": [
    {
     "data": {
      "text/plain": [
       "2.7886198643061624"
      ]
     },
     "execution_count": 31,
     "metadata": {},
     "output_type": "execute_result"
    }
   ],
   "source": [
    "# Supondo que o restante de 2021 arrecadasse o mesmo que a primeira metade\n",
    "2.691089e+09 / (2*4.825127e+08)"
   ]
  },
  {
   "cell_type": "markdown",
   "metadata": {},
   "source": [
    "Selecionando os clientes que fizeram seu registro em 2021 e somando as quantias que esses clientes tem detro da Warren temos que, em meio ano, o montante é mais de 1/5 da montante total. Como os dados de 2021 representam apenas 6 meses e meio, temos que, em meio ano foi arrecadado mais de 1/5 do total de 5 anos somados. Supondo que o restante do ano fosse igual a primeira metade, teríamos entre 1/3 e 1/2 do total (5 anos) em apenas 1  ano. Destacando ainda que o valor de 2021 é maior que esse, pois as pessoas que se cadastraram nos outros anos também acumularam dinheiro em 2021 que não aparece nessa soma. Esse calculo é apenas uma estimativa para mostrar o crescimento nesse ano.\n",
    "Ou seja, o crescimento está em alta. "
   ]
  },
  {
   "cell_type": "code",
   "execution_count": 32,
   "metadata": {},
   "outputs": [],
   "source": [
    "# Podemos calcular ainda, a diferença entre saques e depósitos, para mostrar o quanto dinheiro está ainda\n",
    "# dentro da empresa, corroborando os gráficos da primeira questão; \n",
    "deposits_total = pd.read_sql_query(r\"\"\"\n",
    "                                SELECT SUM(Amount)\n",
    "                                FROM Transactions\n",
    "                                WHERE Direction = 10\n",
    "\"\"\", cnx)"
   ]
  },
  {
   "cell_type": "code",
   "execution_count": 33,
   "metadata": {},
   "outputs": [
    {
     "data": {
      "text/html": [
       "<div>\n",
       "<style scoped>\n",
       "    .dataframe tbody tr th:only-of-type {\n",
       "        vertical-align: middle;\n",
       "    }\n",
       "\n",
       "    .dataframe tbody tr th {\n",
       "        vertical-align: top;\n",
       "    }\n",
       "\n",
       "    .dataframe thead th {\n",
       "        text-align: right;\n",
       "    }\n",
       "</style>\n",
       "<table border=\"1\" class=\"dataframe\">\n",
       "  <thead>\n",
       "    <tr style=\"text-align: right;\">\n",
       "      <th></th>\n",
       "      <th>SUM(Amount)</th>\n",
       "    </tr>\n",
       "  </thead>\n",
       "  <tbody>\n",
       "    <tr>\n",
       "      <th>0</th>\n",
       "      <td>1.221615e+09</td>\n",
       "    </tr>\n",
       "  </tbody>\n",
       "</table>\n",
       "</div>"
      ],
      "text/plain": [
       "    SUM(Amount)\n",
       "0  1.221615e+09"
      ]
     },
     "execution_count": 33,
     "metadata": {},
     "output_type": "execute_result"
    }
   ],
   "source": [
    "deposits_total"
   ]
  },
  {
   "cell_type": "code",
   "execution_count": 34,
   "metadata": {},
   "outputs": [],
   "source": [
    "saques_total = pd.read_sql_query(r\"\"\"\n",
    "                                SELECT SUM(Amount)\n",
    "                                FROM Transactions\n",
    "                                WHERE Direction = 20\n",
    "\"\"\", cnx)"
   ]
  },
  {
   "cell_type": "code",
   "execution_count": 35,
   "metadata": {},
   "outputs": [
    {
     "data": {
      "text/html": [
       "<div>\n",
       "<style scoped>\n",
       "    .dataframe tbody tr th:only-of-type {\n",
       "        vertical-align: middle;\n",
       "    }\n",
       "\n",
       "    .dataframe tbody tr th {\n",
       "        vertical-align: top;\n",
       "    }\n",
       "\n",
       "    .dataframe thead th {\n",
       "        text-align: right;\n",
       "    }\n",
       "</style>\n",
       "<table border=\"1\" class=\"dataframe\">\n",
       "  <thead>\n",
       "    <tr style=\"text-align: right;\">\n",
       "      <th></th>\n",
       "      <th>SUM(Amount)</th>\n",
       "    </tr>\n",
       "  </thead>\n",
       "  <tbody>\n",
       "    <tr>\n",
       "      <th>0</th>\n",
       "      <td>4.526163e+08</td>\n",
       "    </tr>\n",
       "  </tbody>\n",
       "</table>\n",
       "</div>"
      ],
      "text/plain": [
       "    SUM(Amount)\n",
       "0  4.526163e+08"
      ]
     },
     "execution_count": 35,
     "metadata": {},
     "output_type": "execute_result"
    }
   ],
   "source": [
    "saques_total"
   ]
  },
  {
   "cell_type": "code",
   "execution_count": 36,
   "metadata": {},
   "outputs": [],
   "source": [
    "transactions_liquid = 1.221615e+09 - 4.526163e+08"
   ]
  },
  {
   "cell_type": "code",
   "execution_count": 37,
   "metadata": {},
   "outputs": [
    {
     "data": {
      "text/plain": [
       "768998700.0"
      ]
     },
     "execution_count": 37,
     "metadata": {},
     "output_type": "execute_result"
    }
   ],
   "source": [
    "transactions_liquid"
   ]
  },
  {
   "cell_type": "markdown",
   "metadata": {},
   "source": [
    "##### Qual público está entrando na warren nos últimos tempos (idade, renda, investimentos)"
   ]
  },
  {
   "cell_type": "code",
   "execution_count": 38,
   "metadata": {},
   "outputs": [],
   "source": [
    "# Selecionando os dados e salvando em um df\n",
    "customers_selec = pd.read_sql_query(r\"\"\"\n",
    "                            SELECT MonthlyIncome AS Renda, \n",
    "                                FinancialInvestmentsValue AS Investimentos, Age AS Idade\n",
    "                            FROM Customers\n",
    "                            WHERE YEAR(RegisterDate) = 2021\n",
    "\"\"\", cnx)"
   ]
  },
  {
   "cell_type": "code",
   "execution_count": 39,
   "metadata": {},
   "outputs": [],
   "source": [
    "cdf = pd.DataFrame(customers_selec)"
   ]
  },
  {
   "cell_type": "code",
   "execution_count": 40,
   "metadata": {},
   "outputs": [
    {
     "data": {
      "image/png": "[encoded data removed]",
      "text/plain": [
       "<Figure size 432x288 with 1 Axes>"
      ]
     },
     "metadata": {},
     "output_type": "display_data"
    }
   ],
   "source": [
    "# Plotando um gráfico que mostre o público por idade, no ano de 2021\n",
    "g6 = plt.figure()\n",
    "plt.hist(data=cdf, x=\"Idade\", density=False, bins=20, orientation=\"horizontal\", color=\"crimson\")\n",
    "plt.xlabel(\"Quantidade\")\n",
    "plt.ylabel(\"Idade\")\n",
    "plt.title(\"Quantidade de Novos Clientes por Idade (2021)\")\n",
    "plt.yticks(np.arange(0, 85, step=5))\n",
    "plt.show()"
   ]
  },
  {
   "cell_type": "markdown",
   "metadata": {},
   "source": [
    "Aparecem alguns investidores com a idade entre 0 e 5 anos! Isso pode indicar um erro, no sentido de, o campo de idade não foi preenchido e para não haverem missing values na tabela, as lacunas foram preenchidas com zero. Sendo assim, temos duas opções de tratamento desse dado, cortá-lo da análise, ou substituí-lo pela média dos valores de idade. Nesse caso, como são poucos valores, iremos cortá-los da análise. "
   ]
  },
  {
   "cell_type": "code",
   "execution_count": 41,
   "metadata": {},
   "outputs": [],
   "source": [
    "# Repetindo a análise dessa vez separando o público por Renda\n",
    "cdf = cdf.sort_values(by=\"Renda\")"
   ]
  },
  {
   "cell_type": "code",
   "execution_count": 42,
   "metadata": {},
   "outputs": [
    {
     "data": {
      "text/plain": [
       "(7308, 3)"
      ]
     },
     "execution_count": 42,
     "metadata": {},
     "output_type": "execute_result"
    }
   ],
   "source": [
    "# Investigando os valores de Renda\n",
    "cdf.shape"
   ]
  },
  {
   "cell_type": "code",
   "execution_count": 43,
   "metadata": {},
   "outputs": [
    {
     "data": {
      "text/html": [
       "<div>\n",
       "<style scoped>\n",
       "    .dataframe tbody tr th:only-of-type {\n",
       "        vertical-align: middle;\n",
       "    }\n",
       "\n",
       "    .dataframe tbody tr th {\n",
       "        vertical-align: top;\n",
       "    }\n",
       "\n",
       "    .dataframe thead th {\n",
       "        text-align: right;\n",
       "    }\n",
       "</style>\n",
       "<table border=\"1\" class=\"dataframe\">\n",
       "  <thead>\n",
       "    <tr style=\"text-align: right;\">\n",
       "      <th></th>\n",
       "      <th>Renda</th>\n",
       "      <th>Investimentos</th>\n",
       "      <th>Idade</th>\n",
       "    </tr>\n",
       "  </thead>\n",
       "  <tbody>\n",
       "    <tr>\n",
       "      <th>390</th>\n",
       "      <td>0.0</td>\n",
       "      <td>1099.0</td>\n",
       "      <td>21</td>\n",
       "    </tr>\n",
       "    <tr>\n",
       "      <th>2539</th>\n",
       "      <td>0.0</td>\n",
       "      <td>0.0</td>\n",
       "      <td>29</td>\n",
       "    </tr>\n",
       "    <tr>\n",
       "      <th>4905</th>\n",
       "      <td>0.0</td>\n",
       "      <td>300.0</td>\n",
       "      <td>12</td>\n",
       "    </tr>\n",
       "    <tr>\n",
       "      <th>4862</th>\n",
       "      <td>0.0</td>\n",
       "      <td>70000.0</td>\n",
       "      <td>54</td>\n",
       "    </tr>\n",
       "    <tr>\n",
       "      <th>2688</th>\n",
       "      <td>0.0</td>\n",
       "      <td>0.0</td>\n",
       "      <td>19</td>\n",
       "    </tr>\n",
       "    <tr>\n",
       "      <th>2734</th>\n",
       "      <td>0.0</td>\n",
       "      <td>0.0</td>\n",
       "      <td>26</td>\n",
       "    </tr>\n",
       "    <tr>\n",
       "      <th>2818</th>\n",
       "      <td>0.0</td>\n",
       "      <td>250.0</td>\n",
       "      <td>19</td>\n",
       "    </tr>\n",
       "    <tr>\n",
       "      <th>4754</th>\n",
       "      <td>0.0</td>\n",
       "      <td>0.0</td>\n",
       "      <td>37</td>\n",
       "    </tr>\n",
       "    <tr>\n",
       "      <th>4990</th>\n",
       "      <td>0.0</td>\n",
       "      <td>0.0</td>\n",
       "      <td>29</td>\n",
       "    </tr>\n",
       "    <tr>\n",
       "      <th>2842</th>\n",
       "      <td>0.0</td>\n",
       "      <td>1200.0</td>\n",
       "      <td>17</td>\n",
       "    </tr>\n",
       "  </tbody>\n",
       "</table>\n",
       "</div>"
      ],
      "text/plain": [
       "      Renda  Investimentos  Idade\n",
       "390     0.0         1099.0     21\n",
       "2539    0.0            0.0     29\n",
       "4905    0.0          300.0     12\n",
       "4862    0.0        70000.0     54\n",
       "2688    0.0            0.0     19\n",
       "2734    0.0            0.0     26\n",
       "2818    0.0          250.0     19\n",
       "4754    0.0            0.0     37\n",
       "4990    0.0            0.0     29\n",
       "2842    0.0         1200.0     17"
      ]
     },
     "execution_count": 43,
     "metadata": {},
     "output_type": "execute_result"
    }
   ],
   "source": [
    "cdf.head(10)"
   ]
  },
  {
   "cell_type": "code",
   "execution_count": 44,
   "metadata": {},
   "outputs": [
    {
     "data": {
      "text/html": [
       "<div>\n",
       "<style scoped>\n",
       "    .dataframe tbody tr th:only-of-type {\n",
       "        vertical-align: middle;\n",
       "    }\n",
       "\n",
       "    .dataframe tbody tr th {\n",
       "        vertical-align: top;\n",
       "    }\n",
       "\n",
       "    .dataframe thead th {\n",
       "        text-align: right;\n",
       "    }\n",
       "</style>\n",
       "<table border=\"1\" class=\"dataframe\">\n",
       "  <thead>\n",
       "    <tr style=\"text-align: right;\">\n",
       "      <th></th>\n",
       "      <th>Renda</th>\n",
       "      <th>Investimentos</th>\n",
       "      <th>Idade</th>\n",
       "    </tr>\n",
       "  </thead>\n",
       "  <tbody>\n",
       "    <tr>\n",
       "      <th>82</th>\n",
       "      <td>1.889252e+05</td>\n",
       "      <td>0.0</td>\n",
       "      <td>0</td>\n",
       "    </tr>\n",
       "    <tr>\n",
       "      <th>3014</th>\n",
       "      <td>2.000000e+05</td>\n",
       "      <td>200000.0</td>\n",
       "      <td>27</td>\n",
       "    </tr>\n",
       "    <tr>\n",
       "      <th>1382</th>\n",
       "      <td>2.000000e+05</td>\n",
       "      <td>50000.0</td>\n",
       "      <td>26</td>\n",
       "    </tr>\n",
       "    <tr>\n",
       "      <th>2319</th>\n",
       "      <td>2.000000e+05</td>\n",
       "      <td>1000000.0</td>\n",
       "      <td>20</td>\n",
       "    </tr>\n",
       "    <tr>\n",
       "      <th>2049</th>\n",
       "      <td>2.028087e+05</td>\n",
       "      <td>0.0</td>\n",
       "      <td>0</td>\n",
       "    </tr>\n",
       "    <tr>\n",
       "      <th>4784</th>\n",
       "      <td>2.100000e+05</td>\n",
       "      <td>1000000.0</td>\n",
       "      <td>27</td>\n",
       "    </tr>\n",
       "    <tr>\n",
       "      <th>940</th>\n",
       "      <td>2.141144e+05</td>\n",
       "      <td>0.0</td>\n",
       "      <td>0</td>\n",
       "    </tr>\n",
       "    <tr>\n",
       "      <th>3341</th>\n",
       "      <td>2.307390e+05</td>\n",
       "      <td>0.0</td>\n",
       "      <td>0</td>\n",
       "    </tr>\n",
       "    <tr>\n",
       "      <th>2354</th>\n",
       "      <td>2.367494e+05</td>\n",
       "      <td>0.0</td>\n",
       "      <td>0</td>\n",
       "    </tr>\n",
       "    <tr>\n",
       "      <th>4515</th>\n",
       "      <td>2.500000e+05</td>\n",
       "      <td>250000.0</td>\n",
       "      <td>51</td>\n",
       "    </tr>\n",
       "    <tr>\n",
       "      <th>325</th>\n",
       "      <td>2.778569e+05</td>\n",
       "      <td>0.0</td>\n",
       "      <td>0</td>\n",
       "    </tr>\n",
       "    <tr>\n",
       "      <th>906</th>\n",
       "      <td>3.000000e+05</td>\n",
       "      <td>200000.0</td>\n",
       "      <td>38</td>\n",
       "    </tr>\n",
       "    <tr>\n",
       "      <th>3849</th>\n",
       "      <td>3.000000e+05</td>\n",
       "      <td>1800000.0</td>\n",
       "      <td>44</td>\n",
       "    </tr>\n",
       "    <tr>\n",
       "      <th>334</th>\n",
       "      <td>3.000000e+05</td>\n",
       "      <td>10000000.0</td>\n",
       "      <td>75</td>\n",
       "    </tr>\n",
       "    <tr>\n",
       "      <th>3912</th>\n",
       "      <td>3.726714e+05</td>\n",
       "      <td>0.0</td>\n",
       "      <td>0</td>\n",
       "    </tr>\n",
       "    <tr>\n",
       "      <th>6817</th>\n",
       "      <td>4.712035e+05</td>\n",
       "      <td>0.0</td>\n",
       "      <td>0</td>\n",
       "    </tr>\n",
       "    <tr>\n",
       "      <th>2040</th>\n",
       "      <td>5.000000e+05</td>\n",
       "      <td>200000.0</td>\n",
       "      <td>61</td>\n",
       "    </tr>\n",
       "    <tr>\n",
       "      <th>2488</th>\n",
       "      <td>5.456774e+05</td>\n",
       "      <td>0.0</td>\n",
       "      <td>0</td>\n",
       "    </tr>\n",
       "    <tr>\n",
       "      <th>804</th>\n",
       "      <td>7.080332e+05</td>\n",
       "      <td>0.0</td>\n",
       "      <td>0</td>\n",
       "    </tr>\n",
       "    <tr>\n",
       "      <th>3640</th>\n",
       "      <td>1.000000e+06</td>\n",
       "      <td>250000.0</td>\n",
       "      <td>33</td>\n",
       "    </tr>\n",
       "    <tr>\n",
       "      <th>4538</th>\n",
       "      <td>1.000000e+06</td>\n",
       "      <td>50000000.0</td>\n",
       "      <td>43</td>\n",
       "    </tr>\n",
       "    <tr>\n",
       "      <th>1973</th>\n",
       "      <td>1.000000e+06</td>\n",
       "      <td>10000000.0</td>\n",
       "      <td>45</td>\n",
       "    </tr>\n",
       "    <tr>\n",
       "      <th>2564</th>\n",
       "      <td>1.177060e+06</td>\n",
       "      <td>0.0</td>\n",
       "      <td>0</td>\n",
       "    </tr>\n",
       "    <tr>\n",
       "      <th>5541</th>\n",
       "      <td>1.522337e+06</td>\n",
       "      <td>0.0</td>\n",
       "      <td>0</td>\n",
       "    </tr>\n",
       "    <tr>\n",
       "      <th>4770</th>\n",
       "      <td>2.238678e+06</td>\n",
       "      <td>0.0</td>\n",
       "      <td>0</td>\n",
       "    </tr>\n",
       "    <tr>\n",
       "      <th>2162</th>\n",
       "      <td>2.831981e+06</td>\n",
       "      <td>0.0</td>\n",
       "      <td>0</td>\n",
       "    </tr>\n",
       "    <tr>\n",
       "      <th>482</th>\n",
       "      <td>5.563750e+06</td>\n",
       "      <td>0.0</td>\n",
       "      <td>0</td>\n",
       "    </tr>\n",
       "    <tr>\n",
       "      <th>4874</th>\n",
       "      <td>1.886644e+07</td>\n",
       "      <td>0.0</td>\n",
       "      <td>0</td>\n",
       "    </tr>\n",
       "    <tr>\n",
       "      <th>1256</th>\n",
       "      <td>6.501440e+07</td>\n",
       "      <td>0.0</td>\n",
       "      <td>0</td>\n",
       "    </tr>\n",
       "    <tr>\n",
       "      <th>1438</th>\n",
       "      <td>5.871855e+08</td>\n",
       "      <td>0.0</td>\n",
       "      <td>0</td>\n",
       "    </tr>\n",
       "  </tbody>\n",
       "</table>\n",
       "</div>"
      ],
      "text/plain": [
       "             Renda  Investimentos  Idade\n",
       "82    1.889252e+05            0.0      0\n",
       "3014  2.000000e+05       200000.0     27\n",
       "1382  2.000000e+05        50000.0     26\n",
       "2319  2.000000e+05      1000000.0     20\n",
       "2049  2.028087e+05            0.0      0\n",
       "4784  2.100000e+05      1000000.0     27\n",
       "940   2.141144e+05            0.0      0\n",
       "3341  2.307390e+05            0.0      0\n",
       "2354  2.367494e+05            0.0      0\n",
       "4515  2.500000e+05       250000.0     51\n",
       "325   2.778569e+05            0.0      0\n",
       "906   3.000000e+05       200000.0     38\n",
       "3849  3.000000e+05      1800000.0     44\n",
       "334   3.000000e+05     10000000.0     75\n",
       "3912  3.726714e+05            0.0      0\n",
       "6817  4.712035e+05            0.0      0\n",
       "2040  5.000000e+05       200000.0     61\n",
       "2488  5.456774e+05            0.0      0\n",
       "804   7.080332e+05            0.0      0\n",
       "3640  1.000000e+06       250000.0     33\n",
       "4538  1.000000e+06     50000000.0     43\n",
       "1973  1.000000e+06     10000000.0     45\n",
       "2564  1.177060e+06            0.0      0\n",
       "5541  1.522337e+06            0.0      0\n",
       "4770  2.238678e+06            0.0      0\n",
       "2162  2.831981e+06            0.0      0\n",
       "482   5.563750e+06            0.0      0\n",
       "4874  1.886644e+07            0.0      0\n",
       "1256  6.501440e+07            0.0      0\n",
       "1438  5.871855e+08            0.0      0"
      ]
     },
     "execution_count": 44,
     "metadata": {},
     "output_type": "execute_result"
    }
   ],
   "source": [
    "cdf.tail(30)"
   ]
  },
  {
   "cell_type": "markdown",
   "metadata": {},
   "source": [
    "Ao observar o range de valores de Renda presentes nesse dataframe, podemos notar que apenas 11 pessoas dentre 7308 têm renda acima de centenas de milhares. Sendo assim, retirá-las da análise, não prejudicará de forma expressiva. Queremos entender como é a maioria do público e não excessões. "
   ]
  },
  {
   "cell_type": "code",
   "execution_count": 45,
   "metadata": {},
   "outputs": [],
   "source": [
    "ncdf = cdf.drop(cdf[cdf.Renda > 7.080332e+05].index)"
   ]
  },
  {
   "cell_type": "code",
   "execution_count": 46,
   "metadata": {},
   "outputs": [
    {
     "data": {
      "image/png": "[encoded data removed]",
      "text/plain": [
       "<Figure size 864x432 with 1 Axes>"
      ]
     },
     "metadata": {},
     "output_type": "display_data"
    }
   ],
   "source": [
    "# Plotando o mesmo gráfico, dessa vez para público Novo por Renda em 2021\n",
    "plt.figure(figsize=(12,6))\n",
    "sns.histplot(ncdf[\"Renda\"], color=\"m\")\n",
    "# Limitamos a escala, pois a maioria dos clientes tinha a renda entre 0 50mil.\n",
    "# Sendo assim, a visualização fica mais clara com esse fit. \n",
    "plt.xlim(0 * 1000, 50 * 1000)\n",
    "plt.xlabel(\"Renda\")\n",
    "plt.ylabel(\"Quantidade\")\n",
    "plt.title(\"Quantidade de Novos Clientes por Renda (2021)\")\n",
    "plt.show()"
   ]
  },
  {
   "cell_type": "code",
   "execution_count": 47,
   "metadata": {},
   "outputs": [
    {
     "data": {
      "text/html": [
       "<div>\n",
       "<style scoped>\n",
       "    .dataframe tbody tr th:only-of-type {\n",
       "        vertical-align: middle;\n",
       "    }\n",
       "\n",
       "    .dataframe tbody tr th {\n",
       "        vertical-align: top;\n",
       "    }\n",
       "\n",
       "    .dataframe thead th {\n",
       "        text-align: right;\n",
       "    }\n",
       "</style>\n",
       "<table border=\"1\" class=\"dataframe\">\n",
       "  <thead>\n",
       "    <tr style=\"text-align: right;\">\n",
       "      <th></th>\n",
       "      <th>Renda</th>\n",
       "      <th>Investimentos</th>\n",
       "      <th>Idade</th>\n",
       "    </tr>\n",
       "  </thead>\n",
       "  <tbody>\n",
       "    <tr>\n",
       "      <th>748</th>\n",
       "      <td>30000.00</td>\n",
       "      <td>5500000.0</td>\n",
       "      <td>50</td>\n",
       "    </tr>\n",
       "    <tr>\n",
       "      <th>3488</th>\n",
       "      <td>15500.00</td>\n",
       "      <td>5600000.0</td>\n",
       "      <td>41</td>\n",
       "    </tr>\n",
       "    <tr>\n",
       "      <th>5042</th>\n",
       "      <td>30000.00</td>\n",
       "      <td>5800000.0</td>\n",
       "      <td>31</td>\n",
       "    </tr>\n",
       "    <tr>\n",
       "      <th>6159</th>\n",
       "      <td>35000.00</td>\n",
       "      <td>6000000.0</td>\n",
       "      <td>33</td>\n",
       "    </tr>\n",
       "    <tr>\n",
       "      <th>5550</th>\n",
       "      <td>30000.00</td>\n",
       "      <td>6000000.0</td>\n",
       "      <td>38</td>\n",
       "    </tr>\n",
       "    <tr>\n",
       "      <th>187</th>\n",
       "      <td>100000.00</td>\n",
       "      <td>6000000.0</td>\n",
       "      <td>64</td>\n",
       "    </tr>\n",
       "    <tr>\n",
       "      <th>2230</th>\n",
       "      <td>70000.00</td>\n",
       "      <td>7000000.0</td>\n",
       "      <td>71</td>\n",
       "    </tr>\n",
       "    <tr>\n",
       "      <th>471</th>\n",
       "      <td>50000.00</td>\n",
       "      <td>7000000.0</td>\n",
       "      <td>49</td>\n",
       "    </tr>\n",
       "    <tr>\n",
       "      <th>4528</th>\n",
       "      <td>50000.00</td>\n",
       "      <td>8000000.0</td>\n",
       "      <td>41</td>\n",
       "    </tr>\n",
       "    <tr>\n",
       "      <th>415</th>\n",
       "      <td>60000.00</td>\n",
       "      <td>8000000.0</td>\n",
       "      <td>64</td>\n",
       "    </tr>\n",
       "    <tr>\n",
       "      <th>593</th>\n",
       "      <td>50000.00</td>\n",
       "      <td>10000000.0</td>\n",
       "      <td>34</td>\n",
       "    </tr>\n",
       "    <tr>\n",
       "      <th>454</th>\n",
       "      <td>100000.00</td>\n",
       "      <td>10000000.0</td>\n",
       "      <td>47</td>\n",
       "    </tr>\n",
       "    <tr>\n",
       "      <th>700</th>\n",
       "      <td>100000.00</td>\n",
       "      <td>10000000.0</td>\n",
       "      <td>41</td>\n",
       "    </tr>\n",
       "    <tr>\n",
       "      <th>2831</th>\n",
       "      <td>30000.00</td>\n",
       "      <td>10000000.0</td>\n",
       "      <td>58</td>\n",
       "    </tr>\n",
       "    <tr>\n",
       "      <th>334</th>\n",
       "      <td>300000.00</td>\n",
       "      <td>10000000.0</td>\n",
       "      <td>75</td>\n",
       "    </tr>\n",
       "    <tr>\n",
       "      <th>4817</th>\n",
       "      <td>60000.00</td>\n",
       "      <td>10000000.0</td>\n",
       "      <td>40</td>\n",
       "    </tr>\n",
       "    <tr>\n",
       "      <th>3910</th>\n",
       "      <td>150000.00</td>\n",
       "      <td>10000000.0</td>\n",
       "      <td>81</td>\n",
       "    </tr>\n",
       "    <tr>\n",
       "      <th>1973</th>\n",
       "      <td>1000000.00</td>\n",
       "      <td>10000000.0</td>\n",
       "      <td>45</td>\n",
       "    </tr>\n",
       "    <tr>\n",
       "      <th>2787</th>\n",
       "      <td>58000.00</td>\n",
       "      <td>10176000.0</td>\n",
       "      <td>66</td>\n",
       "    </tr>\n",
       "    <tr>\n",
       "      <th>2003</th>\n",
       "      <td>20000.00</td>\n",
       "      <td>15000000.0</td>\n",
       "      <td>30</td>\n",
       "    </tr>\n",
       "    <tr>\n",
       "      <th>2457</th>\n",
       "      <td>15000.00</td>\n",
       "      <td>21000000.0</td>\n",
       "      <td>41</td>\n",
       "    </tr>\n",
       "    <tr>\n",
       "      <th>6078</th>\n",
       "      <td>12947.59</td>\n",
       "      <td>21850000.0</td>\n",
       "      <td>0</td>\n",
       "    </tr>\n",
       "    <tr>\n",
       "      <th>1312</th>\n",
       "      <td>100000.00</td>\n",
       "      <td>24000000.0</td>\n",
       "      <td>42</td>\n",
       "    </tr>\n",
       "    <tr>\n",
       "      <th>6260</th>\n",
       "      <td>90000.00</td>\n",
       "      <td>24000000.0</td>\n",
       "      <td>81</td>\n",
       "    </tr>\n",
       "    <tr>\n",
       "      <th>4538</th>\n",
       "      <td>1000000.00</td>\n",
       "      <td>50000000.0</td>\n",
       "      <td>43</td>\n",
       "    </tr>\n",
       "    <tr>\n",
       "      <th>2582</th>\n",
       "      <td>100000.00</td>\n",
       "      <td>59235000.0</td>\n",
       "      <td>47</td>\n",
       "    </tr>\n",
       "    <tr>\n",
       "      <th>1632</th>\n",
       "      <td>100000.00</td>\n",
       "      <td>62143000.0</td>\n",
       "      <td>53</td>\n",
       "    </tr>\n",
       "    <tr>\n",
       "      <th>6619</th>\n",
       "      <td>100000.00</td>\n",
       "      <td>100000000.0</td>\n",
       "      <td>46</td>\n",
       "    </tr>\n",
       "    <tr>\n",
       "      <th>7093</th>\n",
       "      <td>1100.00</td>\n",
       "      <td>100000000.0</td>\n",
       "      <td>20</td>\n",
       "    </tr>\n",
       "    <tr>\n",
       "      <th>1863</th>\n",
       "      <td>75000.00</td>\n",
       "      <td>200000000.0</td>\n",
       "      <td>67</td>\n",
       "    </tr>\n",
       "  </tbody>\n",
       "</table>\n",
       "</div>"
      ],
      "text/plain": [
       "           Renda  Investimentos  Idade\n",
       "748     30000.00      5500000.0     50\n",
       "3488    15500.00      5600000.0     41\n",
       "5042    30000.00      5800000.0     31\n",
       "6159    35000.00      6000000.0     33\n",
       "5550    30000.00      6000000.0     38\n",
       "187    100000.00      6000000.0     64\n",
       "2230    70000.00      7000000.0     71\n",
       "471     50000.00      7000000.0     49\n",
       "4528    50000.00      8000000.0     41\n",
       "415     60000.00      8000000.0     64\n",
       "593     50000.00     10000000.0     34\n",
       "454    100000.00     10000000.0     47\n",
       "700    100000.00     10000000.0     41\n",
       "2831    30000.00     10000000.0     58\n",
       "334    300000.00     10000000.0     75\n",
       "4817    60000.00     10000000.0     40\n",
       "3910   150000.00     10000000.0     81\n",
       "1973  1000000.00     10000000.0     45\n",
       "2787    58000.00     10176000.0     66\n",
       "2003    20000.00     15000000.0     30\n",
       "2457    15000.00     21000000.0     41\n",
       "6078    12947.59     21850000.0      0\n",
       "1312   100000.00     24000000.0     42\n",
       "6260    90000.00     24000000.0     81\n",
       "4538  1000000.00     50000000.0     43\n",
       "2582   100000.00     59235000.0     47\n",
       "1632   100000.00     62143000.0     53\n",
       "6619   100000.00    100000000.0     46\n",
       "7093     1100.00    100000000.0     20\n",
       "1863    75000.00    200000000.0     67"
      ]
     },
     "execution_count": 47,
     "metadata": {},
     "output_type": "execute_result"
    }
   ],
   "source": [
    "# Repetindo, separando o público por Total de Investimentos Declarados\n",
    "ncdf2 = cdf.sort_values(by=\"Investimentos\")\n",
    "ncdf2.tail(30)"
   ]
  },
  {
   "cell_type": "code",
   "execution_count": 48,
   "metadata": {},
   "outputs": [],
   "source": [
    "# Restringindo os valores de investimentos, retirando os outliers. \n",
    "ncdf2 = cdf.drop(cdf[cdf.Investimentos > 8000000.0].index)"
   ]
  },
  {
   "cell_type": "code",
   "execution_count": 49,
   "metadata": {},
   "outputs": [
    {
     "data": {
      "image/png": "[encoded data removed]",
      "text/plain": [
       "<Figure size 864x432 with 1 Axes>"
      ]
     },
     "metadata": {},
     "output_type": "display_data"
    }
   ],
   "source": [
    "# Público por Investimento\n",
    "plt.figure(figsize=(12,6))\n",
    "sns.histplot(ncdf2[\"Investimentos\"])\n",
    "#plt.xlim(0 * 10000, 80 * 10000)\n",
    "plt.xlabel(\"Investimentos\")\n",
    "plt.ylabel(\"Quantidade\")\n",
    "plt.title(\"Quantidade de Novos Clientes por Investimento (2021)\")\n",
    "plt.show()"
   ]
  },
  {
   "cell_type": "markdown",
   "metadata": {},
   "source": [
    "Podemos ver que a maioria têm invetido entre 0 e 0,5mi, então vamos cortar o df, para dar um zoom nessa região. "
   ]
  },
  {
   "cell_type": "code",
   "execution_count": 50,
   "metadata": {},
   "outputs": [
    {
     "data": {
      "image/png": "[encoded data removed]",
      "text/plain": [
       "<Figure size 864x432 with 1 Axes>"
      ]
     },
     "metadata": {},
     "output_type": "display_data"
    }
   ],
   "source": [
    "plt.figure(figsize=(12,6))\n",
    "sns.histplot(ncdf2[\"Investimentos\"], color=\"m\")\n",
    "plt.xlim(0 * 1000, 50 * 1000)\n",
    "plt.xlabel(\"Investimentos\")\n",
    "plt.ylabel(\"Quantidade\")\n",
    "plt.title(\"Quantidade de Novos Clientes por Investimento (2021)\")\n",
    "plt.show()"
   ]
  },
  {
   "cell_type": "markdown",
   "metadata": {},
   "source": [
    "##### Como cada público impacta na arrecadação, qual o público que arrecada mais?"
   ]
  },
  {
   "cell_type": "code",
   "execution_count": 51,
   "metadata": {},
   "outputs": [],
   "source": [
    "# Selecionando os dados e salvando em um df\n",
    "customers_arrec = pd.read_sql_query(r\"\"\"\n",
    "                            SELECT MonthlyIncome AS Renda, \n",
    "                                FinancialInvestmentsValue AS Investimentos, \n",
    "                                Age AS Idade, AUM AS Total\n",
    "                            FROM Customers\n",
    "                            WHERE Age != 0\n",
    "\"\"\", cnx)\n",
    "# Retiramos da análise clientes com idade igual a zero, pois pode significar dados faltantes. "
   ]
  },
  {
   "cell_type": "code",
   "execution_count": 52,
   "metadata": {},
   "outputs": [],
   "source": [
    "arrec = pd.DataFrame(customers_arrec)"
   ]
  },
  {
   "cell_type": "code",
   "execution_count": 53,
   "metadata": {},
   "outputs": [
    {
     "data": {
      "text/html": [
       "<div>\n",
       "<style scoped>\n",
       "    .dataframe tbody tr th:only-of-type {\n",
       "        vertical-align: middle;\n",
       "    }\n",
       "\n",
       "    .dataframe tbody tr th {\n",
       "        vertical-align: top;\n",
       "    }\n",
       "\n",
       "    .dataframe thead th {\n",
       "        text-align: right;\n",
       "    }\n",
       "</style>\n",
       "<table border=\"1\" class=\"dataframe\">\n",
       "  <thead>\n",
       "    <tr style=\"text-align: right;\">\n",
       "      <th></th>\n",
       "      <th>Renda</th>\n",
       "      <th>Investimentos</th>\n",
       "      <th>Idade</th>\n",
       "      <th>Total</th>\n",
       "    </tr>\n",
       "  </thead>\n",
       "  <tbody>\n",
       "    <tr>\n",
       "      <th>0</th>\n",
       "      <td>250.0</td>\n",
       "      <td>3000.0</td>\n",
       "      <td>14</td>\n",
       "      <td>601.525833</td>\n",
       "    </tr>\n",
       "    <tr>\n",
       "      <th>1</th>\n",
       "      <td>8000.0</td>\n",
       "      <td>180000.0</td>\n",
       "      <td>35</td>\n",
       "      <td>1798.831206</td>\n",
       "    </tr>\n",
       "    <tr>\n",
       "      <th>2</th>\n",
       "      <td>4500.0</td>\n",
       "      <td>0.0</td>\n",
       "      <td>32</td>\n",
       "      <td>1621.043680</td>\n",
       "    </tr>\n",
       "    <tr>\n",
       "      <th>3</th>\n",
       "      <td>18000.0</td>\n",
       "      <td>120000.0</td>\n",
       "      <td>34</td>\n",
       "      <td>78643.814178</td>\n",
       "    </tr>\n",
       "    <tr>\n",
       "      <th>4</th>\n",
       "      <td>2000.0</td>\n",
       "      <td>45000.0</td>\n",
       "      <td>29</td>\n",
       "      <td>422.691159</td>\n",
       "    </tr>\n",
       "    <tr>\n",
       "      <th>...</th>\n",
       "      <td>...</td>\n",
       "      <td>...</td>\n",
       "      <td>...</td>\n",
       "      <td>...</td>\n",
       "    </tr>\n",
       "    <tr>\n",
       "      <th>26993</th>\n",
       "      <td>3000.0</td>\n",
       "      <td>6000.0</td>\n",
       "      <td>25</td>\n",
       "      <td>1546.502525</td>\n",
       "    </tr>\n",
       "    <tr>\n",
       "      <th>26994</th>\n",
       "      <td>11400.0</td>\n",
       "      <td>0.0</td>\n",
       "      <td>34</td>\n",
       "      <td>136152.969554</td>\n",
       "    </tr>\n",
       "    <tr>\n",
       "      <th>26995</th>\n",
       "      <td>3500.0</td>\n",
       "      <td>1000.0</td>\n",
       "      <td>34</td>\n",
       "      <td>568.375766</td>\n",
       "    </tr>\n",
       "    <tr>\n",
       "      <th>26996</th>\n",
       "      <td>1200.0</td>\n",
       "      <td>0.0</td>\n",
       "      <td>27</td>\n",
       "      <td>7860.215845</td>\n",
       "    </tr>\n",
       "    <tr>\n",
       "      <th>26997</th>\n",
       "      <td>24000.0</td>\n",
       "      <td>10000.0</td>\n",
       "      <td>25</td>\n",
       "      <td>0.000000</td>\n",
       "    </tr>\n",
       "  </tbody>\n",
       "</table>\n",
       "<p>26998 rows × 4 columns</p>\n",
       "</div>"
      ],
      "text/plain": [
       "         Renda  Investimentos  Idade          Total\n",
       "0        250.0         3000.0     14     601.525833\n",
       "1       8000.0       180000.0     35    1798.831206\n",
       "2       4500.0            0.0     32    1621.043680\n",
       "3      18000.0       120000.0     34   78643.814178\n",
       "4       2000.0        45000.0     29     422.691159\n",
       "...        ...            ...    ...            ...\n",
       "26993   3000.0         6000.0     25    1546.502525\n",
       "26994  11400.0            0.0     34  136152.969554\n",
       "26995   3500.0         1000.0     34     568.375766\n",
       "26996   1200.0            0.0     27    7860.215845\n",
       "26997  24000.0        10000.0     25       0.000000\n",
       "\n",
       "[26998 rows x 4 columns]"
      ]
     },
     "execution_count": 53,
     "metadata": {},
     "output_type": "execute_result"
    }
   ],
   "source": [
    "arrec"
   ]
  },
  {
   "cell_type": "code",
   "execution_count": 54,
   "metadata": {},
   "outputs": [],
   "source": [
    "arrec_idade = arrec.sort_values(by=\"Total\")"
   ]
  },
  {
   "cell_type": "code",
   "execution_count": 55,
   "metadata": {},
   "outputs": [],
   "source": [
    "# Criando uma coluna com faixas etárias\n",
    "age_bins = [0, 19.99, 29.99, 39.99, 49.99, 50.99, 999]\n",
    "age_bracket = [\"Menos de 20\", \"20 a 30\", \"30 a 40\", \"40 a 50\", \"50 a 60\", \"Mais de 60\"]\n",
    "\n",
    "arrec_idade[\"Range de Idades\"] = pd.cut(arrec_idade[\"Idade\"], age_bins, labels=age_bracket)\n",
    "\n",
    "# Cálculo da soma por faixa etária\n",
    "idade_conta = arrec_idade[\"Range de Idades\"].unique()\n",
    "arrec_idade = arrec_idade.groupby([\"Range de Idades\"]).sum()[\"Total\"].rename(\"Total Arrecadado Por Idade\")\n",
    "\n",
    "# Criando o novo df\n",
    "idade = pd.DataFrame({\"Total Arrecadado por Idade\" : arrec_idade,\n",
    "                     \"Range de Idades\" : idade_conta})"
   ]
  },
  {
   "cell_type": "code",
   "execution_count": 56,
   "metadata": {},
   "outputs": [
    {
     "data": {
      "text/plain": [
       "<bound method DataFrame.sort_index of                  Total Arrecadado por Idade Range de Idades\n",
       "Range de Idades                                            \n",
       "Menos de 20                    7.913352e+06         20 a 30\n",
       "20 a 30                        1.544207e+08         30 a 40\n",
       "30 a 40                        5.339506e+08     Menos de 20\n",
       "40 a 50                        5.241045e+08      Mais de 60\n",
       "50 a 60                        4.228697e+07         40 a 50\n",
       "Mais de 60                     1.062227e+09         50 a 60>"
      ]
     },
     "execution_count": 56,
     "metadata": {},
     "output_type": "execute_result"
    }
   ],
   "source": [
    "idade.sort_index"
   ]
  },
  {
   "cell_type": "code",
   "execution_count": 57,
   "metadata": {},
   "outputs": [
    {
     "data": {
      "image/png": "[encoded data removed]",
      "text/plain": [
       "<Figure size 576x360 with 1 Axes>"
      ]
     },
     "metadata": {},
     "output_type": "display_data"
    }
   ],
   "source": [
    "# Plotando os resultados eum um gráfico\n",
    "plt.figure(figsize=(8,5))\n",
    "g8 = sns.barplot(x=\"Range de Idades\", y=\"Total Arrecadado por Idade\", data=idade, ci=None, palette=\"rocket\")\n",
    "plt.ylim(1e+06, 1.1e+09)\n",
    "\n",
    "plt.show()"
   ]
  },
  {
   "cell_type": "code",
   "execution_count": 58,
   "metadata": {},
   "outputs": [
    {
     "data": {
      "text/html": [
       "<div>\n",
       "<style scoped>\n",
       "    .dataframe tbody tr th:only-of-type {\n",
       "        vertical-align: middle;\n",
       "    }\n",
       "\n",
       "    .dataframe tbody tr th {\n",
       "        vertical-align: top;\n",
       "    }\n",
       "\n",
       "    .dataframe thead th {\n",
       "        text-align: right;\n",
       "    }\n",
       "</style>\n",
       "<table border=\"1\" class=\"dataframe\">\n",
       "  <thead>\n",
       "    <tr style=\"text-align: right;\">\n",
       "      <th></th>\n",
       "      <th>Renda</th>\n",
       "      <th>Investimentos</th>\n",
       "      <th>Idade</th>\n",
       "      <th>Total</th>\n",
       "    </tr>\n",
       "  </thead>\n",
       "  <tbody>\n",
       "    <tr>\n",
       "      <th>13498</th>\n",
       "      <td>6000.0</td>\n",
       "      <td>0.0</td>\n",
       "      <td>24</td>\n",
       "      <td>0.000000e+00</td>\n",
       "    </tr>\n",
       "    <tr>\n",
       "      <th>8750</th>\n",
       "      <td>3000.0</td>\n",
       "      <td>0.0</td>\n",
       "      <td>33</td>\n",
       "      <td>5.474415e+03</td>\n",
       "    </tr>\n",
       "    <tr>\n",
       "      <th>8751</th>\n",
       "      <td>1400.0</td>\n",
       "      <td>0.0</td>\n",
       "      <td>30</td>\n",
       "      <td>3.071532e+02</td>\n",
       "    </tr>\n",
       "    <tr>\n",
       "      <th>8753</th>\n",
       "      <td>2000.0</td>\n",
       "      <td>0.0</td>\n",
       "      <td>33</td>\n",
       "      <td>4.060336e+02</td>\n",
       "    </tr>\n",
       "    <tr>\n",
       "      <th>8754</th>\n",
       "      <td>2600.0</td>\n",
       "      <td>0.0</td>\n",
       "      <td>30</td>\n",
       "      <td>2.117315e+02</td>\n",
       "    </tr>\n",
       "    <tr>\n",
       "      <th>...</th>\n",
       "      <td>...</td>\n",
       "      <td>...</td>\n",
       "      <td>...</td>\n",
       "      <td>...</td>\n",
       "    </tr>\n",
       "    <tr>\n",
       "      <th>14054</th>\n",
       "      <td>10000.0</td>\n",
       "      <td>120000000.0</td>\n",
       "      <td>30</td>\n",
       "      <td>3.072698e+03</td>\n",
       "    </tr>\n",
       "    <tr>\n",
       "      <th>17958</th>\n",
       "      <td>6500.0</td>\n",
       "      <td>165000000.0</td>\n",
       "      <td>39</td>\n",
       "      <td>1.303107e+05</td>\n",
       "    </tr>\n",
       "    <tr>\n",
       "      <th>2668</th>\n",
       "      <td>6000.0</td>\n",
       "      <td>180000000.0</td>\n",
       "      <td>57</td>\n",
       "      <td>6.431284e+04</td>\n",
       "    </tr>\n",
       "    <tr>\n",
       "      <th>6933</th>\n",
       "      <td>75000.0</td>\n",
       "      <td>200000000.0</td>\n",
       "      <td>67</td>\n",
       "      <td>1.500947e+07</td>\n",
       "    </tr>\n",
       "    <tr>\n",
       "      <th>6434</th>\n",
       "      <td>30000.0</td>\n",
       "      <td>500000000.0</td>\n",
       "      <td>37</td>\n",
       "      <td>1.016608e+05</td>\n",
       "    </tr>\n",
       "  </tbody>\n",
       "</table>\n",
       "<p>26998 rows × 4 columns</p>\n",
       "</div>"
      ],
      "text/plain": [
       "         Renda  Investimentos  Idade         Total\n",
       "13498   6000.0            0.0     24  0.000000e+00\n",
       "8750    3000.0            0.0     33  5.474415e+03\n",
       "8751    1400.0            0.0     30  3.071532e+02\n",
       "8753    2000.0            0.0     33  4.060336e+02\n",
       "8754    2600.0            0.0     30  2.117315e+02\n",
       "...        ...            ...    ...           ...\n",
       "14054  10000.0    120000000.0     30  3.072698e+03\n",
       "17958   6500.0    165000000.0     39  1.303107e+05\n",
       "2668    6000.0    180000000.0     57  6.431284e+04\n",
       "6933   75000.0    200000000.0     67  1.500947e+07\n",
       "6434   30000.0    500000000.0     37  1.016608e+05\n",
       "\n",
       "[26998 rows x 4 columns]"
      ]
     },
     "execution_count": 58,
     "metadata": {},
     "output_type": "execute_result"
    }
   ],
   "source": [
    "# Repetindo a mesma análise separando o público por investimento\n",
    "arrec_invest = arrec.sort_values(by=\"Investimentos\")\n",
    "arrec_invest"
   ]
  },
  {
   "cell_type": "code",
   "execution_count": 59,
   "metadata": {},
   "outputs": [],
   "source": [
    "# Criando uma coluna com faixas de valores investidos\n",
    "invest_bins = [-0.99, 0.99e+02, 0.99e+03, 0.99e+04, 0.99e+05, 0.99e+06, 5.99e+09]\n",
    "invest_bracket = [\"Até 100\", \"Até 1000\", \"Até 10,000\", \"Até 100,000\", \"Até 1,000,000\", \"Mais de 1,000,000\"]\n",
    "\n",
    "arrec_invest[\"Valor Investimentos\"] = pd.cut(arrec_invest[\"Investimentos\"], invest_bins, labels=invest_bracket)"
   ]
  },
  {
   "cell_type": "code",
   "execution_count": 60,
   "metadata": {},
   "outputs": [
    {
     "data": {
      "text/html": [
       "<div>\n",
       "<style scoped>\n",
       "    .dataframe tbody tr th:only-of-type {\n",
       "        vertical-align: middle;\n",
       "    }\n",
       "\n",
       "    .dataframe tbody tr th {\n",
       "        vertical-align: top;\n",
       "    }\n",
       "\n",
       "    .dataframe thead th {\n",
       "        text-align: right;\n",
       "    }\n",
       "</style>\n",
       "<table border=\"1\" class=\"dataframe\">\n",
       "  <thead>\n",
       "    <tr style=\"text-align: right;\">\n",
       "      <th></th>\n",
       "      <th>Renda</th>\n",
       "      <th>Investimentos</th>\n",
       "      <th>Idade</th>\n",
       "      <th>Total</th>\n",
       "      <th>Valor Investimentos</th>\n",
       "    </tr>\n",
       "  </thead>\n",
       "  <tbody>\n",
       "    <tr>\n",
       "      <th>13498</th>\n",
       "      <td>6000.0</td>\n",
       "      <td>0.0</td>\n",
       "      <td>24</td>\n",
       "      <td>0.000000e+00</td>\n",
       "      <td>Até 100</td>\n",
       "    </tr>\n",
       "    <tr>\n",
       "      <th>10799</th>\n",
       "      <td>2000.0</td>\n",
       "      <td>0.0</td>\n",
       "      <td>29</td>\n",
       "      <td>0.000000e+00</td>\n",
       "      <td>Até 100</td>\n",
       "    </tr>\n",
       "    <tr>\n",
       "      <th>3628</th>\n",
       "      <td>1000.0</td>\n",
       "      <td>1000.0</td>\n",
       "      <td>17</td>\n",
       "      <td>0.000000e+00</td>\n",
       "      <td>Até 10,000</td>\n",
       "    </tr>\n",
       "    <tr>\n",
       "      <th>9282</th>\n",
       "      <td>5000.0</td>\n",
       "      <td>1000.0</td>\n",
       "      <td>39</td>\n",
       "      <td>0.000000e+00</td>\n",
       "      <td>Até 10,000</td>\n",
       "    </tr>\n",
       "    <tr>\n",
       "      <th>17293</th>\n",
       "      <td>1000.0</td>\n",
       "      <td>0.0</td>\n",
       "      <td>18</td>\n",
       "      <td>0.000000e+00</td>\n",
       "      <td>Até 100</td>\n",
       "    </tr>\n",
       "    <tr>\n",
       "      <th>...</th>\n",
       "      <td>...</td>\n",
       "      <td>...</td>\n",
       "      <td>...</td>\n",
       "      <td>...</td>\n",
       "      <td>...</td>\n",
       "    </tr>\n",
       "    <tr>\n",
       "      <th>5869</th>\n",
       "      <td>15000.0</td>\n",
       "      <td>0.0</td>\n",
       "      <td>58</td>\n",
       "      <td>2.390655e+07</td>\n",
       "      <td>Até 100</td>\n",
       "    </tr>\n",
       "    <tr>\n",
       "      <th>10548</th>\n",
       "      <td>30000.0</td>\n",
       "      <td>10000000.0</td>\n",
       "      <td>58</td>\n",
       "      <td>4.542509e+07</td>\n",
       "      <td>Mais de 1,000,000</td>\n",
       "    </tr>\n",
       "    <tr>\n",
       "      <th>11104</th>\n",
       "      <td>50000.0</td>\n",
       "      <td>0.0</td>\n",
       "      <td>65</td>\n",
       "      <td>6.305006e+07</td>\n",
       "      <td>Até 100</td>\n",
       "    </tr>\n",
       "    <tr>\n",
       "      <th>12886</th>\n",
       "      <td>65000.0</td>\n",
       "      <td>80000.0</td>\n",
       "      <td>75</td>\n",
       "      <td>1.301668e+08</td>\n",
       "      <td>Até 100,000</td>\n",
       "    </tr>\n",
       "    <tr>\n",
       "      <th>20835</th>\n",
       "      <td>10000.0</td>\n",
       "      <td>0.0</td>\n",
       "      <td>73</td>\n",
       "      <td>1.506056e+08</td>\n",
       "      <td>Até 100</td>\n",
       "    </tr>\n",
       "  </tbody>\n",
       "</table>\n",
       "<p>26998 rows × 5 columns</p>\n",
       "</div>"
      ],
      "text/plain": [
       "         Renda  Investimentos  Idade         Total Valor Investimentos\n",
       "13498   6000.0            0.0     24  0.000000e+00             Até 100\n",
       "10799   2000.0            0.0     29  0.000000e+00             Até 100\n",
       "3628    1000.0         1000.0     17  0.000000e+00          Até 10,000\n",
       "9282    5000.0         1000.0     39  0.000000e+00          Até 10,000\n",
       "17293   1000.0            0.0     18  0.000000e+00             Até 100\n",
       "...        ...            ...    ...           ...                 ...\n",
       "5869   15000.0            0.0     58  2.390655e+07             Até 100\n",
       "10548  30000.0     10000000.0     58  4.542509e+07   Mais de 1,000,000\n",
       "11104  50000.0            0.0     65  6.305006e+07             Até 100\n",
       "12886  65000.0        80000.0     75  1.301668e+08         Até 100,000\n",
       "20835  10000.0            0.0     73  1.506056e+08             Até 100\n",
       "\n",
       "[26998 rows x 5 columns]"
      ]
     },
     "execution_count": 60,
     "metadata": {},
     "output_type": "execute_result"
    }
   ],
   "source": [
    "arrec_invest.sort_values(by=\"Total\")"
   ]
  },
  {
   "cell_type": "code",
   "execution_count": 61,
   "metadata": {},
   "outputs": [],
   "source": [
    "# Cálculo baseado na divisão por Faixa de Investimentos\n",
    "invest_conta = arrec_invest[\"Valor Investimentos\"].unique()\n",
    "arrec_invest_novo = arrec_invest.groupby([\"Valor Investimentos\"]).sum()[\"Total\"].rename(\"Total Arrecadado Por Total de Investimentos\")\n",
    "\n",
    "# Criando o novo df\n",
    "investimento = pd.DataFrame({\"Total Arrecadado Por Total de Investimentos\" : arrec_invest_novo,\n",
    "                             \"Valor Investido\" : invest_conta})"
   ]
  },
  {
   "cell_type": "code",
   "execution_count": 62,
   "metadata": {},
   "outputs": [
    {
     "data": {
      "image/png": "[encoded data removed]",
      "text/plain": [
       "<Figure size 576x360 with 1 Axes>"
      ]
     },
     "metadata": {},
     "output_type": "display_data"
    }
   ],
   "source": [
    "# Plotando o gráfico dessas informações\n",
    "plt.figure(figsize=(8,5))\n",
    "sns.barplot(x=\"Valor Investido\", y=\"Total Arrecadado Por Total de Investimentos\", \n",
    "            data=investimento, ci=None, palette=\"rocket\")\n",
    "plt.ylim(0, 8e+08)\n",
    "plt.show()"
   ]
  },
  {
   "cell_type": "markdown",
   "metadata": {},
   "source": [
    "O grande volume de arrecadação até 100 refere-se a pessoas quem tem 0 como valor declarado de investimentos. Esse erro pode ser falta de preenchimento de dados no momento do cadastro, como investimentos não declarados. "
   ]
  },
  {
   "cell_type": "code",
   "execution_count": 63,
   "metadata": {},
   "outputs": [
    {
     "data": {
      "text/html": [
       "<div>\n",
       "<style scoped>\n",
       "    .dataframe tbody tr th:only-of-type {\n",
       "        vertical-align: middle;\n",
       "    }\n",
       "\n",
       "    .dataframe tbody tr th {\n",
       "        vertical-align: top;\n",
       "    }\n",
       "\n",
       "    .dataframe thead th {\n",
       "        text-align: right;\n",
       "    }\n",
       "</style>\n",
       "<table border=\"1\" class=\"dataframe\">\n",
       "  <thead>\n",
       "    <tr style=\"text-align: right;\">\n",
       "      <th></th>\n",
       "      <th>Renda</th>\n",
       "      <th>Investimentos</th>\n",
       "      <th>Idade</th>\n",
       "      <th>Total</th>\n",
       "    </tr>\n",
       "  </thead>\n",
       "  <tbody>\n",
       "    <tr>\n",
       "      <th>22112</th>\n",
       "      <td>0.0</td>\n",
       "      <td>5000.0</td>\n",
       "      <td>21</td>\n",
       "      <td>106.588324</td>\n",
       "    </tr>\n",
       "    <tr>\n",
       "      <th>21359</th>\n",
       "      <td>0.0</td>\n",
       "      <td>0.0</td>\n",
       "      <td>23</td>\n",
       "      <td>87.849998</td>\n",
       "    </tr>\n",
       "    <tr>\n",
       "      <th>467</th>\n",
       "      <td>0.0</td>\n",
       "      <td>0.0</td>\n",
       "      <td>19</td>\n",
       "      <td>1195.598382</td>\n",
       "    </tr>\n",
       "    <tr>\n",
       "      <th>3656</th>\n",
       "      <td>0.0</td>\n",
       "      <td>0.0</td>\n",
       "      <td>20</td>\n",
       "      <td>1992.477820</td>\n",
       "    </tr>\n",
       "    <tr>\n",
       "      <th>13988</th>\n",
       "      <td>0.0</td>\n",
       "      <td>1185000.0</td>\n",
       "      <td>33</td>\n",
       "      <td>617003.490894</td>\n",
       "    </tr>\n",
       "    <tr>\n",
       "      <th>...</th>\n",
       "      <td>...</td>\n",
       "      <td>...</td>\n",
       "      <td>...</td>\n",
       "      <td>...</td>\n",
       "    </tr>\n",
       "    <tr>\n",
       "      <th>1260</th>\n",
       "      <td>18000000.0</td>\n",
       "      <td>200000.0</td>\n",
       "      <td>31</td>\n",
       "      <td>93641.968676</td>\n",
       "    </tr>\n",
       "    <tr>\n",
       "      <th>14499</th>\n",
       "      <td>20000000.0</td>\n",
       "      <td>642000.0</td>\n",
       "      <td>75</td>\n",
       "      <td>740229.823129</td>\n",
       "    </tr>\n",
       "    <tr>\n",
       "      <th>14316</th>\n",
       "      <td>25000000.0</td>\n",
       "      <td>2500000.0</td>\n",
       "      <td>42</td>\n",
       "      <td>461288.797058</td>\n",
       "    </tr>\n",
       "    <tr>\n",
       "      <th>15562</th>\n",
       "      <td>25000000.0</td>\n",
       "      <td>0.0</td>\n",
       "      <td>62</td>\n",
       "      <td>0.000000</td>\n",
       "    </tr>\n",
       "    <tr>\n",
       "      <th>15378</th>\n",
       "      <td>50000000.0</td>\n",
       "      <td>0.0</td>\n",
       "      <td>40</td>\n",
       "      <td>209646.567285</td>\n",
       "    </tr>\n",
       "  </tbody>\n",
       "</table>\n",
       "<p>26998 rows × 4 columns</p>\n",
       "</div>"
      ],
      "text/plain": [
       "            Renda  Investimentos  Idade          Total\n",
       "22112         0.0         5000.0     21     106.588324\n",
       "21359         0.0            0.0     23      87.849998\n",
       "467           0.0            0.0     19    1195.598382\n",
       "3656          0.0            0.0     20    1992.477820\n",
       "13988         0.0      1185000.0     33  617003.490894\n",
       "...           ...            ...    ...            ...\n",
       "1260   18000000.0       200000.0     31   93641.968676\n",
       "14499  20000000.0       642000.0     75  740229.823129\n",
       "14316  25000000.0      2500000.0     42  461288.797058\n",
       "15562  25000000.0            0.0     62       0.000000\n",
       "15378  50000000.0            0.0     40  209646.567285\n",
       "\n",
       "[26998 rows x 4 columns]"
      ]
     },
     "execution_count": 63,
     "metadata": {},
     "output_type": "execute_result"
    }
   ],
   "source": [
    "# Repetindo a mesma análise para faixas de renda\n",
    "arrec_renda = arrec.sort_values(by=\"Renda\")\n",
    "arrec_renda"
   ]
  },
  {
   "cell_type": "code",
   "execution_count": 64,
   "metadata": {},
   "outputs": [],
   "source": [
    "# Criando uma coluna com faixas etárias\n",
    "renda_bins = [-0.99, 1e+02, 1e+03, 1e+04, 1e+05, 1e+06, 1e+09]\n",
    "renda_bracket = [\"Até 100\", \"Até 1,000\", \"Até 10,000\", \"Até 100,000\", \"Até 1,000,000\", \"Mais de 1,000,000\"]\n",
    "\n",
    "arrec_renda[\"Faixas de Renda\"] = pd.cut(arrec_renda[\"Renda\"], renda_bins, labels=renda_bracket)"
   ]
  },
  {
   "cell_type": "code",
   "execution_count": 65,
   "metadata": {},
   "outputs": [
    {
     "data": {
      "text/html": [
       "<div>\n",
       "<style scoped>\n",
       "    .dataframe tbody tr th:only-of-type {\n",
       "        vertical-align: middle;\n",
       "    }\n",
       "\n",
       "    .dataframe tbody tr th {\n",
       "        vertical-align: top;\n",
       "    }\n",
       "\n",
       "    .dataframe thead th {\n",
       "        text-align: right;\n",
       "    }\n",
       "</style>\n",
       "<table border=\"1\" class=\"dataframe\">\n",
       "  <thead>\n",
       "    <tr style=\"text-align: right;\">\n",
       "      <th></th>\n",
       "      <th>Renda</th>\n",
       "      <th>Investimentos</th>\n",
       "      <th>Idade</th>\n",
       "      <th>Total</th>\n",
       "      <th>Faixas de Renda</th>\n",
       "    </tr>\n",
       "  </thead>\n",
       "  <tbody>\n",
       "    <tr>\n",
       "      <th>22112</th>\n",
       "      <td>0.0</td>\n",
       "      <td>5000.0</td>\n",
       "      <td>21</td>\n",
       "      <td>106.588324</td>\n",
       "      <td>Até 100</td>\n",
       "    </tr>\n",
       "    <tr>\n",
       "      <th>21359</th>\n",
       "      <td>0.0</td>\n",
       "      <td>0.0</td>\n",
       "      <td>23</td>\n",
       "      <td>87.849998</td>\n",
       "      <td>Até 100</td>\n",
       "    </tr>\n",
       "    <tr>\n",
       "      <th>467</th>\n",
       "      <td>0.0</td>\n",
       "      <td>0.0</td>\n",
       "      <td>19</td>\n",
       "      <td>1195.598382</td>\n",
       "      <td>Até 100</td>\n",
       "    </tr>\n",
       "    <tr>\n",
       "      <th>3656</th>\n",
       "      <td>0.0</td>\n",
       "      <td>0.0</td>\n",
       "      <td>20</td>\n",
       "      <td>1992.477820</td>\n",
       "      <td>Até 100</td>\n",
       "    </tr>\n",
       "    <tr>\n",
       "      <th>13988</th>\n",
       "      <td>0.0</td>\n",
       "      <td>1185000.0</td>\n",
       "      <td>33</td>\n",
       "      <td>617003.490894</td>\n",
       "      <td>Até 100</td>\n",
       "    </tr>\n",
       "    <tr>\n",
       "      <th>...</th>\n",
       "      <td>...</td>\n",
       "      <td>...</td>\n",
       "      <td>...</td>\n",
       "      <td>...</td>\n",
       "      <td>...</td>\n",
       "    </tr>\n",
       "    <tr>\n",
       "      <th>1260</th>\n",
       "      <td>18000000.0</td>\n",
       "      <td>200000.0</td>\n",
       "      <td>31</td>\n",
       "      <td>93641.968676</td>\n",
       "      <td>Mais de 1,000,000</td>\n",
       "    </tr>\n",
       "    <tr>\n",
       "      <th>14499</th>\n",
       "      <td>20000000.0</td>\n",
       "      <td>642000.0</td>\n",
       "      <td>75</td>\n",
       "      <td>740229.823129</td>\n",
       "      <td>Mais de 1,000,000</td>\n",
       "    </tr>\n",
       "    <tr>\n",
       "      <th>14316</th>\n",
       "      <td>25000000.0</td>\n",
       "      <td>2500000.0</td>\n",
       "      <td>42</td>\n",
       "      <td>461288.797058</td>\n",
       "      <td>Mais de 1,000,000</td>\n",
       "    </tr>\n",
       "    <tr>\n",
       "      <th>15562</th>\n",
       "      <td>25000000.0</td>\n",
       "      <td>0.0</td>\n",
       "      <td>62</td>\n",
       "      <td>0.000000</td>\n",
       "      <td>Mais de 1,000,000</td>\n",
       "    </tr>\n",
       "    <tr>\n",
       "      <th>15378</th>\n",
       "      <td>50000000.0</td>\n",
       "      <td>0.0</td>\n",
       "      <td>40</td>\n",
       "      <td>209646.567285</td>\n",
       "      <td>Mais de 1,000,000</td>\n",
       "    </tr>\n",
       "  </tbody>\n",
       "</table>\n",
       "<p>26998 rows × 5 columns</p>\n",
       "</div>"
      ],
      "text/plain": [
       "            Renda  Investimentos  Idade          Total    Faixas de Renda\n",
       "22112         0.0         5000.0     21     106.588324            Até 100\n",
       "21359         0.0            0.0     23      87.849998            Até 100\n",
       "467           0.0            0.0     19    1195.598382            Até 100\n",
       "3656          0.0            0.0     20    1992.477820            Até 100\n",
       "13988         0.0      1185000.0     33  617003.490894            Até 100\n",
       "...           ...            ...    ...            ...                ...\n",
       "1260   18000000.0       200000.0     31   93641.968676  Mais de 1,000,000\n",
       "14499  20000000.0       642000.0     75  740229.823129  Mais de 1,000,000\n",
       "14316  25000000.0      2500000.0     42  461288.797058  Mais de 1,000,000\n",
       "15562  25000000.0            0.0     62       0.000000  Mais de 1,000,000\n",
       "15378  50000000.0            0.0     40  209646.567285  Mais de 1,000,000\n",
       "\n",
       "[26998 rows x 5 columns]"
      ]
     },
     "execution_count": 65,
     "metadata": {},
     "output_type": "execute_result"
    }
   ],
   "source": [
    "arrec_renda"
   ]
  },
  {
   "cell_type": "code",
   "execution_count": 66,
   "metadata": {},
   "outputs": [],
   "source": [
    "# Cálculo baseado nessas faixas\n",
    "renda_conta = arrec_renda[\"Faixas de Renda\"].unique()\n",
    "arrec_renda_novo = arrec_renda.groupby([\"Faixas de Renda\"]).sum()[\"Total\"].rename(\"Total Arrecadado Por Faixa de Renda\")\n",
    "\n",
    "# Criando o novo df\n",
    "renda = pd.DataFrame({\"Total Arrecadado Por Faixas de Renda\" : arrec_renda_novo,\n",
    "                             \"Faixas de Renda\" : renda_conta})"
   ]
  },
  {
   "cell_type": "code",
   "execution_count": 67,
   "metadata": {},
   "outputs": [
    {
     "data": {
      "text/html": [
       "<div>\n",
       "<style scoped>\n",
       "    .dataframe tbody tr th:only-of-type {\n",
       "        vertical-align: middle;\n",
       "    }\n",
       "\n",
       "    .dataframe tbody tr th {\n",
       "        vertical-align: top;\n",
       "    }\n",
       "\n",
       "    .dataframe thead th {\n",
       "        text-align: right;\n",
       "    }\n",
       "</style>\n",
       "<table border=\"1\" class=\"dataframe\">\n",
       "  <thead>\n",
       "    <tr style=\"text-align: right;\">\n",
       "      <th></th>\n",
       "      <th>Total Arrecadado Por Faixas de Renda</th>\n",
       "      <th>Faixas de Renda</th>\n",
       "    </tr>\n",
       "    <tr>\n",
       "      <th>Faixas de Renda</th>\n",
       "      <th></th>\n",
       "      <th></th>\n",
       "    </tr>\n",
       "  </thead>\n",
       "  <tbody>\n",
       "    <tr>\n",
       "      <th>Até 100</th>\n",
       "      <td>2.218655e+07</td>\n",
       "      <td>Até 100</td>\n",
       "    </tr>\n",
       "    <tr>\n",
       "      <th>Até 1,000</th>\n",
       "      <td>1.640484e+07</td>\n",
       "      <td>Até 1,000</td>\n",
       "    </tr>\n",
       "    <tr>\n",
       "      <th>Até 10,000</th>\n",
       "      <td>7.298154e+08</td>\n",
       "      <td>Até 10,000</td>\n",
       "    </tr>\n",
       "    <tr>\n",
       "      <th>Até 100,000</th>\n",
       "      <td>1.470177e+09</td>\n",
       "      <td>Até 100,000</td>\n",
       "    </tr>\n",
       "    <tr>\n",
       "      <th>Até 1,000,000</th>\n",
       "      <td>8.263768e+07</td>\n",
       "      <td>Até 1,000,000</td>\n",
       "    </tr>\n",
       "    <tr>\n",
       "      <th>Mais de 1,000,000</th>\n",
       "      <td>3.681652e+06</td>\n",
       "      <td>Mais de 1,000,000</td>\n",
       "    </tr>\n",
       "  </tbody>\n",
       "</table>\n",
       "</div>"
      ],
      "text/plain": [
       "                   Total Arrecadado Por Faixas de Renda    Faixas de Renda\n",
       "Faixas de Renda                                                           \n",
       "Até 100                                    2.218655e+07            Até 100\n",
       "Até 1,000                                  1.640484e+07          Até 1,000\n",
       "Até 10,000                                 7.298154e+08         Até 10,000\n",
       "Até 100,000                                1.470177e+09        Até 100,000\n",
       "Até 1,000,000                              8.263768e+07      Até 1,000,000\n",
       "Mais de 1,000,000                          3.681652e+06  Mais de 1,000,000"
      ]
     },
     "execution_count": 67,
     "metadata": {},
     "output_type": "execute_result"
    }
   ],
   "source": [
    "renda"
   ]
  },
  {
   "cell_type": "code",
   "execution_count": 68,
   "metadata": {},
   "outputs": [
    {
     "data": {
      "image/png": "[encoded data removed]",
      "text/plain": [
       "<Figure size 576x360 with 1 Axes>"
      ]
     },
     "metadata": {},
     "output_type": "display_data"
    }
   ],
   "source": [
    "# Plotando um gráfico com essas informações\n",
    "plt.figure(figsize=(8,5))\n",
    "sns.barplot(x=\"Faixas de Renda\", y=\"Total Arrecadado Por Faixas de Renda\", \n",
    "            data=renda, ci=None, palette=\"rocket\")\n",
    "plt.ylim(1e+06, 1.5e+09)\n",
    "\n",
    "plt.show()"
   ]
  },
  {
   "cell_type": "markdown",
   "metadata": {},
   "source": [
    "Quem mais arrecada: \n",
    "- entre 50 e 60 anos; \n",
    "- com 0 de valor declarado investido ou com mais de 1mi investido; \n",
    "- com faixa de renda até 100mil"
   ]
  },
  {
   "cell_type": "code",
   "execution_count": 69,
   "metadata": {},
   "outputs": [
    {
     "data": {
      "image/png": "[encoded data removed]",
      "text/plain": [
       "<Figure size 576x576 with 2 Axes>"
      ]
     },
     "metadata": {},
     "output_type": "display_data"
    }
   ],
   "source": [
    "# Verificando correlação entre os dados\n",
    "plt.figure(figsize=(8,8))\n",
    "sns.heatmap(arrec.corr(), annot=True)\n",
    "plt.show()\n",
    "# Baixíssima "
   ]
  },
  {
   "cell_type": "markdown",
   "metadata": {},
   "source": [
    "##### Quantos depósitos cada cliente faz em média por período de tempo? Essa taxa muda por público?"
   ]
  },
  {
   "cell_type": "code",
   "execution_count": 70,
   "metadata": {},
   "outputs": [],
   "source": [
    "# Selecionando os dados e criando o novo df \n",
    "deposits_query = pd.read_sql_query(r\"\"\"\n",
    "                                        SELECT Direction, MONTH(OperatedAt) as Mês, customerid\n",
    "                                        FROM Transactions\n",
    "                                        WHERE Direction = 10\n",
    "                                        ORDER BY Mês\n",
    "\"\"\", cnx)"
   ]
  },
  {
   "cell_type": "code",
   "execution_count": 71,
   "metadata": {},
   "outputs": [],
   "source": [
    "deposits = pd.DataFrame(deposits_query)"
   ]
  },
  {
   "cell_type": "code",
   "execution_count": 72,
   "metadata": {},
   "outputs": [
    {
     "data": {
      "text/html": [
       "<div>\n",
       "<style scoped>\n",
       "    .dataframe tbody tr th:only-of-type {\n",
       "        vertical-align: middle;\n",
       "    }\n",
       "\n",
       "    .dataframe tbody tr th {\n",
       "        vertical-align: top;\n",
       "    }\n",
       "\n",
       "    .dataframe thead th {\n",
       "        text-align: right;\n",
       "    }\n",
       "</style>\n",
       "<table border=\"1\" class=\"dataframe\">\n",
       "  <thead>\n",
       "    <tr style=\"text-align: right;\">\n",
       "      <th></th>\n",
       "      <th>Direction</th>\n",
       "      <th>Mês</th>\n",
       "      <th>customerid</th>\n",
       "    </tr>\n",
       "  </thead>\n",
       "  <tbody>\n",
       "    <tr>\n",
       "      <th>0</th>\n",
       "      <td>10</td>\n",
       "      <td>1</td>\n",
       "      <td>148082</td>\n",
       "    </tr>\n",
       "    <tr>\n",
       "      <th>1</th>\n",
       "      <td>10</td>\n",
       "      <td>1</td>\n",
       "      <td>91849</td>\n",
       "    </tr>\n",
       "    <tr>\n",
       "      <th>2</th>\n",
       "      <td>10</td>\n",
       "      <td>1</td>\n",
       "      <td>149173</td>\n",
       "    </tr>\n",
       "    <tr>\n",
       "      <th>3</th>\n",
       "      <td>10</td>\n",
       "      <td>1</td>\n",
       "      <td>127746</td>\n",
       "    </tr>\n",
       "    <tr>\n",
       "      <th>4</th>\n",
       "      <td>10</td>\n",
       "      <td>1</td>\n",
       "      <td>148746</td>\n",
       "    </tr>\n",
       "    <tr>\n",
       "      <th>...</th>\n",
       "      <td>...</td>\n",
       "      <td>...</td>\n",
       "      <td>...</td>\n",
       "    </tr>\n",
       "    <tr>\n",
       "      <th>120966</th>\n",
       "      <td>10</td>\n",
       "      <td>7</td>\n",
       "      <td>192898</td>\n",
       "    </tr>\n",
       "    <tr>\n",
       "      <th>120967</th>\n",
       "      <td>10</td>\n",
       "      <td>7</td>\n",
       "      <td>192293</td>\n",
       "    </tr>\n",
       "    <tr>\n",
       "      <th>120968</th>\n",
       "      <td>10</td>\n",
       "      <td>7</td>\n",
       "      <td>185831</td>\n",
       "    </tr>\n",
       "    <tr>\n",
       "      <th>120969</th>\n",
       "      <td>10</td>\n",
       "      <td>7</td>\n",
       "      <td>153001</td>\n",
       "    </tr>\n",
       "    <tr>\n",
       "      <th>120970</th>\n",
       "      <td>10</td>\n",
       "      <td>7</td>\n",
       "      <td>104220</td>\n",
       "    </tr>\n",
       "  </tbody>\n",
       "</table>\n",
       "<p>120971 rows × 3 columns</p>\n",
       "</div>"
      ],
      "text/plain": [
       "        Direction  Mês  customerid\n",
       "0              10    1      148082\n",
       "1              10    1       91849\n",
       "2              10    1      149173\n",
       "3              10    1      127746\n",
       "4              10    1      148746\n",
       "...           ...  ...         ...\n",
       "120966         10    7      192898\n",
       "120967         10    7      192293\n",
       "120968         10    7      185831\n",
       "120969         10    7      153001\n",
       "120970         10    7      104220\n",
       "\n",
       "[120971 rows x 3 columns]"
      ]
     },
     "execution_count": 72,
     "metadata": {},
     "output_type": "execute_result"
    }
   ],
   "source": [
    "deposits"
   ]
  },
  {
   "cell_type": "code",
   "execution_count": 73,
   "metadata": {},
   "outputs": [],
   "source": [
    "# Criando uma coluna com o número de depósitos a partir da contagem de vezes que cada cliente aparece\n",
    "deposits[\"n_depositos\"] = deposits[\"customerid\"].value_counts()"
   ]
  },
  {
   "cell_type": "code",
   "execution_count": 74,
   "metadata": {},
   "outputs": [],
   "source": [
    "# Fazendo a média e salvando em um novo df\n",
    "deposits_mean = deposits.groupby([\"Mês\"]).mean()[\"n_depositos\"].rename(\"Média de Depósitos\")"
   ]
  },
  {
   "cell_type": "code",
   "execution_count": 75,
   "metadata": {},
   "outputs": [],
   "source": [
    "deposits_mean_df = pd.DataFrame(deposits_mean)"
   ]
  },
  {
   "cell_type": "code",
   "execution_count": 76,
   "metadata": {},
   "outputs": [
    {
     "data": {
      "text/html": [
       "<div>\n",
       "<style scoped>\n",
       "    .dataframe tbody tr th:only-of-type {\n",
       "        vertical-align: middle;\n",
       "    }\n",
       "\n",
       "    .dataframe tbody tr th {\n",
       "        vertical-align: top;\n",
       "    }\n",
       "\n",
       "    .dataframe thead th {\n",
       "        text-align: right;\n",
       "    }\n",
       "</style>\n",
       "<table border=\"1\" class=\"dataframe\">\n",
       "  <thead>\n",
       "    <tr style=\"text-align: right;\">\n",
       "      <th></th>\n",
       "      <th>Média de Depósitos</th>\n",
       "    </tr>\n",
       "    <tr>\n",
       "      <th>Mês</th>\n",
       "      <th></th>\n",
       "    </tr>\n",
       "  </thead>\n",
       "  <tbody>\n",
       "    <tr>\n",
       "      <th>1</th>\n",
       "      <td>6.412084</td>\n",
       "    </tr>\n",
       "    <tr>\n",
       "      <th>2</th>\n",
       "      <td>6.056714</td>\n",
       "    </tr>\n",
       "    <tr>\n",
       "      <th>3</th>\n",
       "      <td>5.888039</td>\n",
       "    </tr>\n",
       "    <tr>\n",
       "      <th>4</th>\n",
       "      <td>5.977632</td>\n",
       "    </tr>\n",
       "    <tr>\n",
       "      <th>5</th>\n",
       "      <td>6.019704</td>\n",
       "    </tr>\n",
       "    <tr>\n",
       "      <th>6</th>\n",
       "      <td>5.817542</td>\n",
       "    </tr>\n",
       "    <tr>\n",
       "      <th>7</th>\n",
       "      <td>5.636538</td>\n",
       "    </tr>\n",
       "  </tbody>\n",
       "</table>\n",
       "</div>"
      ],
      "text/plain": [
       "     Média de Depósitos\n",
       "Mês                    \n",
       "1              6.412084\n",
       "2              6.056714\n",
       "3              5.888039\n",
       "4              5.977632\n",
       "5              6.019704\n",
       "6              5.817542\n",
       "7              5.636538"
      ]
     },
     "execution_count": 76,
     "metadata": {},
     "output_type": "execute_result"
    }
   ],
   "source": [
    "deposits_mean_df"
   ]
  },
  {
   "cell_type": "markdown",
   "metadata": {},
   "source": [
    "A média de depósitos é de 6 por mês por cliente; "
   ]
  },
  {
   "cell_type": "code",
   "execution_count": 77,
   "metadata": {},
   "outputs": [],
   "source": [
    "# Repetindo a análise anterior separando o público por idade \n",
    "deposits_idade_query = pd.read_sql_query(r\"\"\"\n",
    "                                    SELECT t.customerid, c.Age AS Idade\n",
    "                                        FROM Transactions AS t\n",
    "                                        INNER JOIN Customers AS c\n",
    "                                            ON t.customerid = c.customerid\n",
    "                                        WHERE MONTH(t.OperatedAt) = 4 AND t.Direction = 10\n",
    "\"\"\", cnx)\n",
    "# Pegamos um mês como período de tempo, nesse caso o mês 4, para o qual o número de depósitos era próximo\n",
    "# aos demais meses. "
   ]
  },
  {
   "cell_type": "code",
   "execution_count": 78,
   "metadata": {},
   "outputs": [],
   "source": [
    "deposits_idade = pd.DataFrame(deposits_idade_query)"
   ]
  },
  {
   "cell_type": "code",
   "execution_count": 79,
   "metadata": {},
   "outputs": [
    {
     "data": {
      "text/html": [
       "<div>\n",
       "<style scoped>\n",
       "    .dataframe tbody tr th:only-of-type {\n",
       "        vertical-align: middle;\n",
       "    }\n",
       "\n",
       "    .dataframe tbody tr th {\n",
       "        vertical-align: top;\n",
       "    }\n",
       "\n",
       "    .dataframe thead th {\n",
       "        text-align: right;\n",
       "    }\n",
       "</style>\n",
       "<table border=\"1\" class=\"dataframe\">\n",
       "  <thead>\n",
       "    <tr style=\"text-align: right;\">\n",
       "      <th></th>\n",
       "      <th>customerid</th>\n",
       "      <th>Idade</th>\n",
       "    </tr>\n",
       "  </thead>\n",
       "  <tbody>\n",
       "    <tr>\n",
       "      <th>0</th>\n",
       "      <td>7597</td>\n",
       "      <td>31</td>\n",
       "    </tr>\n",
       "    <tr>\n",
       "      <th>1</th>\n",
       "      <td>16185</td>\n",
       "      <td>31</td>\n",
       "    </tr>\n",
       "    <tr>\n",
       "      <th>2</th>\n",
       "      <td>35402</td>\n",
       "      <td>28</td>\n",
       "    </tr>\n",
       "    <tr>\n",
       "      <th>3</th>\n",
       "      <td>21478</td>\n",
       "      <td>38</td>\n",
       "    </tr>\n",
       "    <tr>\n",
       "      <th>4</th>\n",
       "      <td>66188</td>\n",
       "      <td>39</td>\n",
       "    </tr>\n",
       "    <tr>\n",
       "      <th>...</th>\n",
       "      <td>...</td>\n",
       "      <td>...</td>\n",
       "    </tr>\n",
       "    <tr>\n",
       "      <th>18415</th>\n",
       "      <td>171130</td>\n",
       "      <td>46</td>\n",
       "    </tr>\n",
       "    <tr>\n",
       "      <th>18416</th>\n",
       "      <td>171130</td>\n",
       "      <td>46</td>\n",
       "    </tr>\n",
       "    <tr>\n",
       "      <th>18417</th>\n",
       "      <td>8210</td>\n",
       "      <td>24</td>\n",
       "    </tr>\n",
       "    <tr>\n",
       "      <th>18418</th>\n",
       "      <td>8210</td>\n",
       "      <td>24</td>\n",
       "    </tr>\n",
       "    <tr>\n",
       "      <th>18419</th>\n",
       "      <td>74146</td>\n",
       "      <td>36</td>\n",
       "    </tr>\n",
       "  </tbody>\n",
       "</table>\n",
       "<p>18420 rows × 2 columns</p>\n",
       "</div>"
      ],
      "text/plain": [
       "       customerid  Idade\n",
       "0            7597     31\n",
       "1           16185     31\n",
       "2           35402     28\n",
       "3           21478     38\n",
       "4           66188     39\n",
       "...           ...    ...\n",
       "18415      171130     46\n",
       "18416      171130     46\n",
       "18417        8210     24\n",
       "18418        8210     24\n",
       "18419       74146     36\n",
       "\n",
       "[18420 rows x 2 columns]"
      ]
     },
     "execution_count": 79,
     "metadata": {},
     "output_type": "execute_result"
    }
   ],
   "source": [
    "deposits_idade"
   ]
  },
  {
   "cell_type": "code",
   "execution_count": 80,
   "metadata": {},
   "outputs": [],
   "source": [
    "deposits_idade[\"n_depositos\"] = deposits_idade[\"customerid\"].value_counts()"
   ]
  },
  {
   "cell_type": "code",
   "execution_count": 81,
   "metadata": {},
   "outputs": [],
   "source": [
    "deposits_idade_mean = deposits_idade.groupby([\"Idade\"]).mean()[\"n_depositos\"].rename(\"Média de Depósitos por Idade\")\n",
    "coluna_idades = deposits_idade[\"Idade\"].unique()"
   ]
  },
  {
   "cell_type": "code",
   "execution_count": 82,
   "metadata": {},
   "outputs": [],
   "source": [
    "deposits_idade_mean_df = pd.DataFrame({\"Média de Depósitos por Idade\": deposits_idade_mean,\n",
    "                                       \"Idades\": coluna_idades})"
   ]
  },
  {
   "cell_type": "code",
   "execution_count": 83,
   "metadata": {},
   "outputs": [
    {
     "data": {
      "text/html": [
       "<div>\n",
       "<style scoped>\n",
       "    .dataframe tbody tr th:only-of-type {\n",
       "        vertical-align: middle;\n",
       "    }\n",
       "\n",
       "    .dataframe tbody tr th {\n",
       "        vertical-align: top;\n",
       "    }\n",
       "\n",
       "    .dataframe thead th {\n",
       "        text-align: right;\n",
       "    }\n",
       "</style>\n",
       "<table border=\"1\" class=\"dataframe\">\n",
       "  <thead>\n",
       "    <tr style=\"text-align: right;\">\n",
       "      <th></th>\n",
       "      <th>Média de Depósitos por Idade</th>\n",
       "      <th>Idades</th>\n",
       "    </tr>\n",
       "    <tr>\n",
       "      <th>Idade</th>\n",
       "      <th></th>\n",
       "      <th></th>\n",
       "    </tr>\n",
       "  </thead>\n",
       "  <tbody>\n",
       "    <tr>\n",
       "      <th>0</th>\n",
       "      <td>3.0</td>\n",
       "      <td>31</td>\n",
       "    </tr>\n",
       "    <tr>\n",
       "      <th>1</th>\n",
       "      <td>NaN</td>\n",
       "      <td>28</td>\n",
       "    </tr>\n",
       "    <tr>\n",
       "      <th>2</th>\n",
       "      <td>NaN</td>\n",
       "      <td>38</td>\n",
       "    </tr>\n",
       "    <tr>\n",
       "      <th>3</th>\n",
       "      <td>1.0</td>\n",
       "      <td>39</td>\n",
       "    </tr>\n",
       "    <tr>\n",
       "      <th>4</th>\n",
       "      <td>NaN</td>\n",
       "      <td>27</td>\n",
       "    </tr>\n",
       "  </tbody>\n",
       "</table>\n",
       "</div>"
      ],
      "text/plain": [
       "       Média de Depósitos por Idade  Idades\n",
       "Idade                                      \n",
       "0                               3.0      31\n",
       "1                               NaN      28\n",
       "2                               NaN      38\n",
       "3                               1.0      39\n",
       "4                               NaN      27"
      ]
     },
     "execution_count": 83,
     "metadata": {},
     "output_type": "execute_result"
    }
   ],
   "source": [
    "deposits_idade_mean_df.head(5)"
   ]
  },
  {
   "cell_type": "code",
   "execution_count": 84,
   "metadata": {},
   "outputs": [
    {
     "data": {
      "image/png": "[encoded data removed]",
      "text/plain": [
       "<Figure size 1224x432 with 1 Axes>"
      ]
     },
     "metadata": {},
     "output_type": "display_data"
    }
   ],
   "source": [
    "plt.figure(figsize=(17,6))\n",
    "sns.barplot(\n",
    "    data=deposits_idade_mean_df,\n",
    "    x=\"Idades\", y=\"Média de Depósitos por Idade\",\n",
    "    palette=\"rocket\")\n",
    "plt.xlabel(\"Idades\")\n",
    "plt.ylabel(\"Média de Depósitos\")\n",
    "plt.title(\"Média de Depósitos por Idade\")\n",
    "plt.show()"
   ]
  },
  {
   "cell_type": "markdown",
   "metadata": {},
   "source": [
    "Ao separar o público por idade a média cai para 2. "
   ]
  },
  {
   "cell_type": "code",
   "execution_count": 85,
   "metadata": {},
   "outputs": [],
   "source": [
    "# Repetindo a análise anterior, mas separando o púlbico por Renda\n",
    "deposits_renda_query = pd.read_sql_query(r\"\"\"\n",
    "                                    SELECT t.customerid, c.MonthlyIncome AS Renda\n",
    "                                        FROM Transactions AS t\n",
    "                                        INNER JOIN Customers AS c\n",
    "                                            ON t.customerid = c.customerid\n",
    "                                        WHERE MONTH(t.OperatedAt) = 4 AND t.Direction = 10\n",
    "\"\"\", cnx)"
   ]
  },
  {
   "cell_type": "code",
   "execution_count": 86,
   "metadata": {},
   "outputs": [],
   "source": [
    "deposits_renda = pd.DataFrame(deposits_renda_query)"
   ]
  },
  {
   "cell_type": "code",
   "execution_count": 87,
   "metadata": {},
   "outputs": [
    {
     "data": {
      "text/html": [
       "<div>\n",
       "<style scoped>\n",
       "    .dataframe tbody tr th:only-of-type {\n",
       "        vertical-align: middle;\n",
       "    }\n",
       "\n",
       "    .dataframe tbody tr th {\n",
       "        vertical-align: top;\n",
       "    }\n",
       "\n",
       "    .dataframe thead th {\n",
       "        text-align: right;\n",
       "    }\n",
       "</style>\n",
       "<table border=\"1\" class=\"dataframe\">\n",
       "  <thead>\n",
       "    <tr style=\"text-align: right;\">\n",
       "      <th></th>\n",
       "      <th>customerid</th>\n",
       "      <th>Renda</th>\n",
       "    </tr>\n",
       "  </thead>\n",
       "  <tbody>\n",
       "    <tr>\n",
       "      <th>0</th>\n",
       "      <td>7597</td>\n",
       "      <td>8800.0</td>\n",
       "    </tr>\n",
       "    <tr>\n",
       "      <th>1</th>\n",
       "      <td>16185</td>\n",
       "      <td>3150.0</td>\n",
       "    </tr>\n",
       "    <tr>\n",
       "      <th>2</th>\n",
       "      <td>35402</td>\n",
       "      <td>7150.0</td>\n",
       "    </tr>\n",
       "    <tr>\n",
       "      <th>3</th>\n",
       "      <td>21478</td>\n",
       "      <td>16000.0</td>\n",
       "    </tr>\n",
       "    <tr>\n",
       "      <th>4</th>\n",
       "      <td>66188</td>\n",
       "      <td>9000.0</td>\n",
       "    </tr>\n",
       "    <tr>\n",
       "      <th>...</th>\n",
       "      <td>...</td>\n",
       "      <td>...</td>\n",
       "    </tr>\n",
       "    <tr>\n",
       "      <th>18415</th>\n",
       "      <td>171130</td>\n",
       "      <td>10000.0</td>\n",
       "    </tr>\n",
       "    <tr>\n",
       "      <th>18416</th>\n",
       "      <td>171130</td>\n",
       "      <td>10000.0</td>\n",
       "    </tr>\n",
       "    <tr>\n",
       "      <th>18417</th>\n",
       "      <td>8210</td>\n",
       "      <td>4100.0</td>\n",
       "    </tr>\n",
       "    <tr>\n",
       "      <th>18418</th>\n",
       "      <td>8210</td>\n",
       "      <td>4100.0</td>\n",
       "    </tr>\n",
       "    <tr>\n",
       "      <th>18419</th>\n",
       "      <td>74146</td>\n",
       "      <td>10000.0</td>\n",
       "    </tr>\n",
       "  </tbody>\n",
       "</table>\n",
       "<p>18420 rows × 2 columns</p>\n",
       "</div>"
      ],
      "text/plain": [
       "       customerid    Renda\n",
       "0            7597   8800.0\n",
       "1           16185   3150.0\n",
       "2           35402   7150.0\n",
       "3           21478  16000.0\n",
       "4           66188   9000.0\n",
       "...           ...      ...\n",
       "18415      171130  10000.0\n",
       "18416      171130  10000.0\n",
       "18417        8210   4100.0\n",
       "18418        8210   4100.0\n",
       "18419       74146  10000.0\n",
       "\n",
       "[18420 rows x 2 columns]"
      ]
     },
     "execution_count": 87,
     "metadata": {},
     "output_type": "execute_result"
    }
   ],
   "source": [
    "deposits_renda"
   ]
  },
  {
   "cell_type": "code",
   "execution_count": 88,
   "metadata": {},
   "outputs": [],
   "source": [
    "deposits_renda[\"n_depositos\"] = deposits_renda[\"customerid\"].value_counts()"
   ]
  },
  {
   "cell_type": "code",
   "execution_count": 89,
   "metadata": {},
   "outputs": [],
   "source": [
    "deposits_renda_mean = deposits_renda.groupby([\"Renda\"]).mean()[\"n_depositos\"].rename(\"Média de Depósitos por Renda\")\n",
    "coluna_rendas = deposits_renda[\"Renda\"].unique()"
   ]
  },
  {
   "cell_type": "code",
   "execution_count": 90,
   "metadata": {},
   "outputs": [],
   "source": [
    "deposits_renda_mean_df = pd.DataFrame({\"Média de Depósitos por Renda\": deposits_renda_mean,\n",
    "                                       \"Rendas\": coluna_rendas})"
   ]
  },
  {
   "cell_type": "code",
   "execution_count": 91,
   "metadata": {},
   "outputs": [
    {
     "data": {
      "text/plain": [
       "(0.0, 50000.0)"
      ]
     },
     "execution_count": 91,
     "metadata": {},
     "output_type": "execute_result"
    },
    {
     "data": {
      "image/png": "[encoded data removed]",
      "text/plain": [
       "<Figure size 288x288 with 1 Axes>"
      ]
     },
     "metadata": {},
     "output_type": "display_data"
    }
   ],
   "source": [
    "# Plotando as informações em um gráfico de dispersão\n",
    "sns.lmplot(x=\"Rendas\", y=\"Média de Depósitos por Renda\", data=deposits_renda_mean_df,\n",
    "           ci=None, palette=\"rocket\", height=4,\n",
    "           scatter_kws={\"s\": 50, \"alpha\": 1})\n",
    "plt.xlim(0 * 1000, 50 * 1000)"
   ]
  },
  {
   "cell_type": "code",
   "execution_count": 92,
   "metadata": {},
   "outputs": [],
   "source": [
    "# Fazendo a mesma análise para os Investimentos\n",
    "deposits_investimentos_query = pd.read_sql_query(r\"\"\"\n",
    "                                    SELECT t.customerid, c.FinancialInvestmentsValue AS Investimentos\n",
    "                                        FROM Transactions AS t\n",
    "                                        INNER JOIN Customers AS c\n",
    "                                            ON t.customerid = c.customerid\n",
    "                                        WHERE MONTH(t.OperatedAt) = 4 AND t.Direction = 10\n",
    "\"\"\", cnx)"
   ]
  },
  {
   "cell_type": "code",
   "execution_count": 93,
   "metadata": {},
   "outputs": [],
   "source": [
    "deposits_investimentos = pd.DataFrame(deposits_investimentos_query)"
   ]
  },
  {
   "cell_type": "code",
   "execution_count": 94,
   "metadata": {},
   "outputs": [],
   "source": [
    "deposits_investimentos[\"n_depositos\"] = deposits_investimentos[\"customerid\"].value_counts()"
   ]
  },
  {
   "cell_type": "code",
   "execution_count": 95,
   "metadata": {},
   "outputs": [],
   "source": [
    "deposits_investimentos_mean = deposits_investimentos.groupby([\"Investimentos\"]).mean()[\"n_depositos\"].rename(\"Média de Depósitos por Investimento\")\n",
    "coluna_investimentos = deposits_investimentos[\"Investimentos\"].unique()"
   ]
  },
  {
   "cell_type": "code",
   "execution_count": 96,
   "metadata": {},
   "outputs": [],
   "source": [
    "deposits_investimentos_mean_df = pd.DataFrame({\"Média de Depósitos por Investimentos\": deposits_investimentos_mean,\n",
    "                                               \"Investimentos\": coluna_investimentos})"
   ]
  },
  {
   "cell_type": "code",
   "execution_count": 97,
   "metadata": {},
   "outputs": [
    {
     "data": {
      "text/plain": [
       "(0.0, 50000.0)"
      ]
     },
     "execution_count": 97,
     "metadata": {},
     "output_type": "execute_result"
    },
    {
     "data": {
      "image/png": "[encoded data removed]",
      "text/plain": [
       "<Figure size 288x288 with 1 Axes>"
      ]
     },
     "metadata": {},
     "output_type": "display_data"
    }
   ],
   "source": [
    "sns.lmplot(x=\"Investimentos\", y=\"Média de Depósitos por Investimentos\", data=deposits_investimentos_mean_df,\n",
    "           ci=None, palette=\"rocket\", height=4,\n",
    "           scatter_kws={\"s\": 50, \"alpha\": 1})\n",
    "plt.xlim(0 * 1000, 50 * 1000)"
   ]
  },
  {
   "cell_type": "markdown",
   "metadata": {},
   "source": [
    "Ao separar por renda e investimenos a média também se mantém em 2. "
   ]
  },
  {
   "cell_type": "markdown",
   "metadata": {},
   "source": [
    "##### Tendo em vista os clientes que retiram o dinheiro da Warren, quantas pessoas zeram suas quantias na Warren? Existe um público dominante?"
   ]
  },
  {
   "cell_type": "code",
   "execution_count": 98,
   "metadata": {},
   "outputs": [],
   "source": [
    "# Realizando a consulta aos dados\n",
    "zerado_total = pd.read_sql_query(r\"\"\"\n",
    "                                    SELECT AUM, COUNT(1) AS Total_Zeradas\n",
    "                                    FROM Customers\n",
    "                                    WHERE AUM = 0 \n",
    "\"\"\", cnx)"
   ]
  },
  {
   "cell_type": "code",
   "execution_count": 99,
   "metadata": {},
   "outputs": [
    {
     "data": {
      "text/html": [
       "<div>\n",
       "<style scoped>\n",
       "    .dataframe tbody tr th:only-of-type {\n",
       "        vertical-align: middle;\n",
       "    }\n",
       "\n",
       "    .dataframe tbody tr th {\n",
       "        vertical-align: top;\n",
       "    }\n",
       "\n",
       "    .dataframe thead th {\n",
       "        text-align: right;\n",
       "    }\n",
       "</style>\n",
       "<table border=\"1\" class=\"dataframe\">\n",
       "  <thead>\n",
       "    <tr style=\"text-align: right;\">\n",
       "      <th></th>\n",
       "      <th>AUM</th>\n",
       "      <th>Total_Zeradas</th>\n",
       "    </tr>\n",
       "  </thead>\n",
       "  <tbody>\n",
       "    <tr>\n",
       "      <th>0</th>\n",
       "      <td>0.0</td>\n",
       "      <td>4780</td>\n",
       "    </tr>\n",
       "  </tbody>\n",
       "</table>\n",
       "</div>"
      ],
      "text/plain": [
       "   AUM  Total_Zeradas\n",
       "0  0.0           4780"
      ]
     },
     "execution_count": 99,
     "metadata": {},
     "output_type": "execute_result"
    }
   ],
   "source": [
    "# Total de contas zeradas na Warren\n",
    "zerado_total"
   ]
  },
  {
   "cell_type": "code",
   "execution_count": 100,
   "metadata": {},
   "outputs": [],
   "source": [
    "# Consultando os dados dessa vez reunindo os públicos\n",
    "zerado_query = pd.read_sql_query(r\"\"\"\n",
    "                                    SELECT Age AS Idade, monthlyincome AS Renda, \n",
    "                                    FinancialInvestmentsValue AS Total_Investido\n",
    "                                    FROM Customers\n",
    "                                    WHERE AUM = 0 \n",
    "\"\"\", cnx)"
   ]
  },
  {
   "cell_type": "code",
   "execution_count": 101,
   "metadata": {},
   "outputs": [],
   "source": [
    "zerado = pd.DataFrame(zerado_query)"
   ]
  },
  {
   "cell_type": "code",
   "execution_count": 102,
   "metadata": {},
   "outputs": [
    {
     "data": {
      "text/html": [
       "<div>\n",
       "<style scoped>\n",
       "    .dataframe tbody tr th:only-of-type {\n",
       "        vertical-align: middle;\n",
       "    }\n",
       "\n",
       "    .dataframe tbody tr th {\n",
       "        vertical-align: top;\n",
       "    }\n",
       "\n",
       "    .dataframe thead th {\n",
       "        text-align: right;\n",
       "    }\n",
       "</style>\n",
       "<table border=\"1\" class=\"dataframe\">\n",
       "  <thead>\n",
       "    <tr style=\"text-align: right;\">\n",
       "      <th></th>\n",
       "      <th>Idade</th>\n",
       "      <th>Renda</th>\n",
       "      <th>Total_Investido</th>\n",
       "    </tr>\n",
       "  </thead>\n",
       "  <tbody>\n",
       "    <tr>\n",
       "      <th>0</th>\n",
       "      <td>22</td>\n",
       "      <td>2500.0</td>\n",
       "      <td>0.0</td>\n",
       "    </tr>\n",
       "    <tr>\n",
       "      <th>1</th>\n",
       "      <td>38</td>\n",
       "      <td>1500.0</td>\n",
       "      <td>0.0</td>\n",
       "    </tr>\n",
       "    <tr>\n",
       "      <th>2</th>\n",
       "      <td>36</td>\n",
       "      <td>0.0</td>\n",
       "      <td>900.0</td>\n",
       "    </tr>\n",
       "    <tr>\n",
       "      <th>3</th>\n",
       "      <td>24</td>\n",
       "      <td>1600.0</td>\n",
       "      <td>100.0</td>\n",
       "    </tr>\n",
       "    <tr>\n",
       "      <th>4</th>\n",
       "      <td>34</td>\n",
       "      <td>11000.0</td>\n",
       "      <td>370000.0</td>\n",
       "    </tr>\n",
       "    <tr>\n",
       "      <th>...</th>\n",
       "      <td>...</td>\n",
       "      <td>...</td>\n",
       "      <td>...</td>\n",
       "    </tr>\n",
       "    <tr>\n",
       "      <th>4775</th>\n",
       "      <td>33</td>\n",
       "      <td>12600.0</td>\n",
       "      <td>10000.0</td>\n",
       "    </tr>\n",
       "    <tr>\n",
       "      <th>4776</th>\n",
       "      <td>24</td>\n",
       "      <td>2000.0</td>\n",
       "      <td>800.0</td>\n",
       "    </tr>\n",
       "    <tr>\n",
       "      <th>4777</th>\n",
       "      <td>31</td>\n",
       "      <td>300.0</td>\n",
       "      <td>0.0</td>\n",
       "    </tr>\n",
       "    <tr>\n",
       "      <th>4778</th>\n",
       "      <td>26</td>\n",
       "      <td>1500.0</td>\n",
       "      <td>0.0</td>\n",
       "    </tr>\n",
       "    <tr>\n",
       "      <th>4779</th>\n",
       "      <td>25</td>\n",
       "      <td>24000.0</td>\n",
       "      <td>10000.0</td>\n",
       "    </tr>\n",
       "  </tbody>\n",
       "</table>\n",
       "<p>4780 rows × 3 columns</p>\n",
       "</div>"
      ],
      "text/plain": [
       "      Idade    Renda  Total_Investido\n",
       "0        22   2500.0              0.0\n",
       "1        38   1500.0              0.0\n",
       "2        36      0.0            900.0\n",
       "3        24   1600.0            100.0\n",
       "4        34  11000.0         370000.0\n",
       "...     ...      ...              ...\n",
       "4775     33  12600.0          10000.0\n",
       "4776     24   2000.0            800.0\n",
       "4777     31    300.0              0.0\n",
       "4778     26   1500.0              0.0\n",
       "4779     25  24000.0          10000.0\n",
       "\n",
       "[4780 rows x 3 columns]"
      ]
     },
     "execution_count": 102,
     "metadata": {},
     "output_type": "execute_result"
    }
   ],
   "source": [
    "zerado"
   ]
  },
  {
   "cell_type": "code",
   "execution_count": 103,
   "metadata": {},
   "outputs": [
    {
     "data": {
      "image/png": "[encoded data removed]",
      "text/plain": [
       "<Figure size 864x432 with 1 Axes>"
      ]
     },
     "metadata": {},
     "output_type": "display_data"
    }
   ],
   "source": [
    "# Plotando a quantidade de Contas Zeradas por Idade\n",
    "plt.figure(figsize=(12,6))\n",
    "sns.histplot(zerado[\"Idade\"], color=\"m\")\n",
    "plt.xlabel(\"Idade\")\n",
    "plt.ylabel(\"Quantidade de Contas Zeradas por Idade\")\n",
    "plt.title(\"Quantidade de Contas Zeradas por Idade\")\n",
    "plt.show()"
   ]
  },
  {
   "cell_type": "code",
   "execution_count": 104,
   "metadata": {},
   "outputs": [
    {
     "data": {
      "text/html": [
       "<div>\n",
       "<style scoped>\n",
       "    .dataframe tbody tr th:only-of-type {\n",
       "        vertical-align: middle;\n",
       "    }\n",
       "\n",
       "    .dataframe tbody tr th {\n",
       "        vertical-align: top;\n",
       "    }\n",
       "\n",
       "    .dataframe thead th {\n",
       "        text-align: right;\n",
       "    }\n",
       "</style>\n",
       "<table border=\"1\" class=\"dataframe\">\n",
       "  <thead>\n",
       "    <tr style=\"text-align: right;\">\n",
       "      <th></th>\n",
       "      <th>Idade</th>\n",
       "      <th>Renda</th>\n",
       "      <th>Total_Investido</th>\n",
       "    </tr>\n",
       "  </thead>\n",
       "  <tbody>\n",
       "    <tr>\n",
       "      <th>3120</th>\n",
       "      <td>31</td>\n",
       "      <td>0.0</td>\n",
       "      <td>500.0</td>\n",
       "    </tr>\n",
       "    <tr>\n",
       "      <th>3098</th>\n",
       "      <td>47</td>\n",
       "      <td>0.0</td>\n",
       "      <td>4000.0</td>\n",
       "    </tr>\n",
       "    <tr>\n",
       "      <th>2476</th>\n",
       "      <td>18</td>\n",
       "      <td>0.0</td>\n",
       "      <td>40.0</td>\n",
       "    </tr>\n",
       "    <tr>\n",
       "      <th>3932</th>\n",
       "      <td>22</td>\n",
       "      <td>0.0</td>\n",
       "      <td>0.0</td>\n",
       "    </tr>\n",
       "    <tr>\n",
       "      <th>2686</th>\n",
       "      <td>23</td>\n",
       "      <td>0.0</td>\n",
       "      <td>0.0</td>\n",
       "    </tr>\n",
       "    <tr>\n",
       "      <th>...</th>\n",
       "      <td>...</td>\n",
       "      <td>...</td>\n",
       "      <td>...</td>\n",
       "    </tr>\n",
       "    <tr>\n",
       "      <th>3013</th>\n",
       "      <td>43</td>\n",
       "      <td>1000000.0</td>\n",
       "      <td>50000000.0</td>\n",
       "    </tr>\n",
       "    <tr>\n",
       "      <th>3066</th>\n",
       "      <td>27</td>\n",
       "      <td>2890000.0</td>\n",
       "      <td>1000.0</td>\n",
       "    </tr>\n",
       "    <tr>\n",
       "      <th>1800</th>\n",
       "      <td>0</td>\n",
       "      <td>8927000.0</td>\n",
       "      <td>0.0</td>\n",
       "    </tr>\n",
       "    <tr>\n",
       "      <th>1374</th>\n",
       "      <td>32</td>\n",
       "      <td>11000000.0</td>\n",
       "      <td>0.0</td>\n",
       "    </tr>\n",
       "    <tr>\n",
       "      <th>2779</th>\n",
       "      <td>62</td>\n",
       "      <td>25000000.0</td>\n",
       "      <td>0.0</td>\n",
       "    </tr>\n",
       "  </tbody>\n",
       "</table>\n",
       "<p>4780 rows × 3 columns</p>\n",
       "</div>"
      ],
      "text/plain": [
       "      Idade       Renda  Total_Investido\n",
       "3120     31         0.0            500.0\n",
       "3098     47         0.0           4000.0\n",
       "2476     18         0.0             40.0\n",
       "3932     22         0.0              0.0\n",
       "2686     23         0.0              0.0\n",
       "...     ...         ...              ...\n",
       "3013     43   1000000.0       50000000.0\n",
       "3066     27   2890000.0           1000.0\n",
       "1800      0   8927000.0              0.0\n",
       "1374     32  11000000.0              0.0\n",
       "2779     62  25000000.0              0.0\n",
       "\n",
       "[4780 rows x 3 columns]"
      ]
     },
     "execution_count": 104,
     "metadata": {},
     "output_type": "execute_result"
    }
   ],
   "source": [
    "zerado.sort_values(by=\"Renda\")"
   ]
  },
  {
   "cell_type": "code",
   "execution_count": 105,
   "metadata": {},
   "outputs": [],
   "source": [
    "# Repetindo o mesmo recorte realizado outras vezes\n",
    "nzerado = zerado.drop(zerado[zerado.Renda > 7.080332e+05].index)"
   ]
  },
  {
   "cell_type": "code",
   "execution_count": 106,
   "metadata": {},
   "outputs": [
    {
     "data": {
      "image/png": "[encoded data removed]",
      "text/plain": [
       "<Figure size 864x432 with 1 Axes>"
      ]
     },
     "metadata": {},
     "output_type": "display_data"
    }
   ],
   "source": [
    "# Gráfico da Quantidade de Contas Zeradas por Renda\n",
    "plt.figure(figsize=(12,6))\n",
    "sns.histplot(nzerado[\"Renda\"], color=\"m\")\n",
    "# Limitamos a escala, pois a maioria dos clientes tem renda abaixo de 50mil.\n",
    "# Sendo assim, a visualização fica mais clara com esse fit. \n",
    "plt.xlim(0 * 1000, 50 * 1000)\n",
    "plt.xlabel(\"Renda\")\n",
    "plt.ylabel(\"Quantidade\")\n",
    "plt.title(\"Quantidade de Contas Zeradas por Renda\")\n",
    "plt.show()"
   ]
  },
  {
   "cell_type": "code",
   "execution_count": 107,
   "metadata": {},
   "outputs": [
    {
     "data": {
      "image/png": "[encoded data removed]",
      "text/plain": [
       "<Figure size 864x432 with 1 Axes>"
      ]
     },
     "metadata": {},
     "output_type": "display_data"
    }
   ],
   "source": [
    "# Dando um \"zoom\" no gráfico\n",
    "plt.figure(figsize=(12,6))\n",
    "sns.histplot(nzerado[\"Renda\"], color=\"m\")\n",
    "# Limitamos a escala, pois a maioria dos clientes que zeraram as contas estavam abaixo de 10mil.\n",
    "# Sendo assim, a visualização fica mais clara com esse fit. \n",
    "plt.xlim(0 * 100, 100 * 100)\n",
    "plt.xlabel(\"Renda\")\n",
    "plt.ylabel(\"Quantidade\")\n",
    "plt.title(\"Quantidade de Contas Zeradas por Renda\")\n",
    "plt.show()"
   ]
  },
  {
   "cell_type": "code",
   "execution_count": 108,
   "metadata": {},
   "outputs": [],
   "source": [
    "# Repetindo o recorte realizado outras vezes\n",
    "nzerado2 = zerado.drop(zerado[zerado.Total_Investido > 8000000.0].index)"
   ]
  },
  {
   "cell_type": "code",
   "execution_count": 205,
   "metadata": {},
   "outputs": [
    {
     "data": {
      "image/png": "[encoded data removed]",
      "text/plain": [
       "<Figure size 864x432 with 1 Axes>"
      ]
     },
     "metadata": {},
     "output_type": "display_data"
    }
   ],
   "source": [
    "# Gráfico da Quantidade de Contas zeradas por Total Investido\n",
    "plt.figure(figsize=(12,6))\n",
    "sns.histplot(nzerado2[\"Total_Investido\"], color=\"m\")\n",
    "plt.xlim(0 * 1000, 50 * 1000)\n",
    "plt.xlabel(\"Total Investido\")\n",
    "plt.ylabel(\"Quantidade\")\n",
    "plt.title(\"Quantidade de Contas Zeradas por Total Investido\")\n",
    "plt.show()"
   ]
  },
  {
   "cell_type": "code",
   "execution_count": null,
   "metadata": {},
   "outputs": [],
   "source": [
    "# Eliminando os clientes com total investido = 0, pois podem significar missing values.\n",
    "nzerado3 = nzerado2.drop(nzerado2[nzerado2.Total_Investido < 1.0].index)"
   ]
  },
  {
   "cell_type": "code",
   "execution_count": 113,
   "metadata": {},
   "outputs": [
    {
     "data": {
      "image/png": "[encoded data removed]",
      "text/plain": [
       "<Figure size 864x432 with 1 Axes>"
      ]
     },
     "metadata": {},
     "output_type": "display_data"
    }
   ],
   "source": [
    "# Refazendo o gráfico\n",
    "plt.figure(figsize=(12,6))\n",
    "sns.histplot(nzerado3[\"Total_Investido\"], color=\"m\")\n",
    "plt.xlim(0 * 1000, 10 * 1000)\n",
    "plt.xlabel(\"Total Investido\")\n",
    "plt.ylabel(\"Quantidade\")\n",
    "plt.title(\"Quantidade de Contas Zeradas por Total Investido\")\n",
    "plt.show()\n",
    "# O resultado segue o mesmo, maioria de contas zeradas em pessoas com investimentos até 4mil."
   ]
  },
  {
   "cell_type": "markdown",
   "metadata": {},
   "source": [
    "### Sugestão de Desenvolvimento de Canal\n",
    "\n",
    "Analisando os gráficos anteriores vemos que os públicos que menos arrecadam e mais zeram suas contas são: \n",
    "- Entre 20 e 30 anos de idade; \n",
    "- Renda entre 100 e 10mil; \n",
    "- Investimentos até 1mil. \n",
    "\n",
    "Podemos investigar então qual plataforma esse público usa para acessar.\n",
    "Melhorar o modo de acesso pode ajudar essas pessoas a não zerarem as contas e aumentarem a sua arrecadação. "
   ]
  },
  {
   "cell_type": "code",
   "execution_count": 206,
   "metadata": {},
   "outputs": [],
   "source": [
    "# Consultando quais canais o público entre 20 e 30 anos utiliza \n",
    "platform_idade = pd.read_sql_query(r\"\"\"\n",
    "                                SELECT e.Platform AS Plataforma\n",
    "                                FROM Events AS e\n",
    "                                INNER JOIN Customers AS c\n",
    "                                    ON e.CustomerApiid = c.CustomerApiid\n",
    "                                WHERE c.Age BETWEEN 20 AND 30\n",
    "\"\"\", cnx)"
   ]
  },
  {
   "cell_type": "code",
   "execution_count": 207,
   "metadata": {},
   "outputs": [
    {
     "data": {
      "text/plain": [
       "Plataforma\n",
       "ANDROID       203713\n",
       "IOS           128188\n",
       "WEB           124973\n",
       "dtype: int64"
      ]
     },
     "execution_count": 207,
     "metadata": {},
     "output_type": "execute_result"
    }
   ],
   "source": [
    "platform_idade.value_counts()"
   ]
  },
  {
   "cell_type": "code",
   "execution_count": 208,
   "metadata": {},
   "outputs": [],
   "source": [
    "# Quais canais o público com renda entre 100 e 10000 utiliza\n",
    "platform_renda = pd.read_sql_query(r\"\"\"\n",
    "                                SELECT e.Platform AS Plataforma\n",
    "                                FROM Events AS e\n",
    "                                INNER JOIN Customers AS c\n",
    "                                    ON e.CustomerApiid = c.CustomerApiid\n",
    "                                WHERE c.MonthlyIncome BETWEEN 101 AND 10000\n",
    "\"\"\", cnx)"
   ]
  },
  {
   "cell_type": "code",
   "execution_count": 209,
   "metadata": {},
   "outputs": [
    {
     "data": {
      "text/plain": [
       "Plataforma\n",
       "ANDROID       392422\n",
       "WEB           274344\n",
       "IOS           212347\n",
       "dtype: int64"
      ]
     },
     "execution_count": 209,
     "metadata": {},
     "output_type": "execute_result"
    }
   ],
   "source": [
    "platform_renda.value_counts()"
   ]
  },
  {
   "cell_type": "code",
   "execution_count": 210,
   "metadata": {},
   "outputs": [],
   "source": [
    "# Qual canal o público com Total Investido entre 0 e 1000 utiliza\n",
    "platform_invest = pd.read_sql_query(r\"\"\"\n",
    "                                SELECT e.Platform AS Plataforma\n",
    "                                FROM Events AS e\n",
    "                                INNER JOIN Customers AS c\n",
    "                                    ON e.CustomerApiid = c.CustomerApiid\n",
    "                                WHERE c.FinancialInvestmentsValue BETWEEN 0 AND 1000\n",
    "\"\"\", cnx)"
   ]
  },
  {
   "cell_type": "code",
   "execution_count": 211,
   "metadata": {},
   "outputs": [
    {
     "data": {
      "text/plain": [
       "Plataforma\n",
       "ANDROID       213148\n",
       "WEB           178451\n",
       "IOS           116590\n",
       "dtype: int64"
      ]
     },
     "execution_count": 211,
     "metadata": {},
     "output_type": "execute_result"
    }
   ],
   "source": [
    "platform_invest.value_counts()"
   ]
  },
  {
   "cell_type": "markdown",
   "metadata": {},
   "source": [
    "Em todos os públicos, o meio mais usado de acesso é a plataforma Android. Pode significar um problema com a plataforma. "
   ]
  }
 ],
 "metadata": {
  "kernelspec": {
   "display_name": "Python 3",
   "language": "python",
   "name": "python3"
  },
  "language_info": {
   "codemirror_mode": {
    "name": "ipython",
    "version": 3
   },
   "file_extension": ".py",
   "mimetype": "text/x-python",
   "name": "python",
   "nbconvert_exporter": "python",
   "pygments_lexer": "ipython3",
   "version": "3.8.5"
  }
 },
 "nbformat": 4,
 "nbformat_minor": 4
}
